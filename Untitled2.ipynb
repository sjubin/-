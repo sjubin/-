{
  "nbformat": 4,
  "nbformat_minor": 0,
  "metadata": {
    "colab": {
      "name": "Untitled2.ipynb",
      "provenance": [],
      "collapsed_sections": [],
      "authorship_tag": "ABX9TyPJOLqDKm5IsKiBmeyXXXcE",
      "include_colab_link": true
    },
    "kernelspec": {
      "name": "python3",
      "display_name": "Python 3"
    },
    "language_info": {
      "name": "python"
    }
  },
  "cells": [
    {
      "cell_type": "markdown",
      "metadata": {
        "id": "view-in-github",
        "colab_type": "text"
      },
      "source": [
        "<a href=\"https://colab.research.google.com/github/sjubin/-/blob/master/Untitled2.ipynb\" target=\"_parent\"><img src=\"https://colab.research.google.com/assets/colab-badge.svg\" alt=\"Open In Colab\"/></a>"
      ]
    },
    {
      "cell_type": "code",
      "metadata": {
        "colab": {
          "base_uri": "https://localhost:8080/",
          "height": 282
        },
        "id": "RgedpgXkGfOg",
        "outputId": "014d556d-339a-4575-a298-94cac44f1b4c"
      },
      "source": [
        "import pandas as pd\n",
        "import numpy as np\n",
        "import matplotlib.pyplot as plt\n",
        "\n",
        "def a_function(x):\n",
        "  return np.array(x>0)\n",
        "x = np.arange(-3.0, 3.0, 0.2)\n",
        "y = a_function(x)\n",
        "plt.plot(x,y)\n",
        "plt.ylim(-0.1,1.1)\n",
        "plt.show\n"
      ],
      "execution_count": 2,
      "outputs": [
        {
          "output_type": "execute_result",
          "data": {
            "text/plain": [
              "<function matplotlib.pyplot.show>"
            ]
          },
          "metadata": {
            "tags": []
          },
          "execution_count": 2
        },
        {
          "output_type": "display_data",
          "data": {
            "image/png": "[encoded data removed]",
            "text/plain": [
              "<Figure size 432x288 with 1 Axes>"
            ]
          },
          "metadata": {
            "tags": [],
            "needs_background": "light"
          }
        }
      ]
    },
    {
      "cell_type": "code",
      "metadata": {
        "id": "KE9CU0vBNJnW"
      },
      "source": [
        ""
      ],
      "execution_count": null,
      "outputs": []
    },
    {
      "cell_type": "code",
      "metadata": {
        "id": "chMOz3P2Ifhm"
      },
      "source": [
        "import numpy as np\n",
        "import matplotlib.pyplot as plt"
      ],
      "execution_count": 15,
      "outputs": []
    },
    {
      "cell_type": "code",
      "metadata": {
        "id": "pELz5dqmI4gU"
      },
      "source": [
        "def step_funtion(x):\n",
        "  return np.array(x>0, dtype=np.int)"
      ],
      "execution_count": 16,
      "outputs": []
    },
    {
      "cell_type": "code",
      "metadata": {
        "id": "MCDwDBhNNOB_"
      },
      "source": [
        "def sigmoid(x):\n",
        "  return 1 / (1+ np.exp(-x))"
      ],
      "execution_count": 18,
      "outputs": []
    },
    {
      "cell_type": "code",
      "metadata": {
        "id": "LD12bp65In6v"
      },
      "source": [
        "x = np.arange(-5.0,0.5,0.1)"
      ],
      "execution_count": 19,
      "outputs": []
    },
    {
      "cell_type": "code",
      "metadata": {
        "id": "v-ehk_XTI0yh"
      },
      "source": [
        "y = step_funtion(x)"
      ],
      "execution_count": 20,
      "outputs": []
    },
    {
      "cell_type": "code",
      "metadata": {
        "id": "kxkzKnhLNrfC"
      },
      "source": [
        "y2 = sigmoid(x)"
      ],
      "execution_count": 21,
      "outputs": []
    },
    {
      "cell_type": "code",
      "metadata": {
        "colab": {
          "base_uri": "https://localhost:8080/",
          "height": 265
        },
        "id": "GYVnuUnTJeeQ",
        "outputId": "929196d4-5f5a-4d7b-ecf7-02fd024220e7"
      },
      "source": [
        "plt.plot(x,y)\n",
        "plt.plot(x,y2,'r--')\n",
        "plt.ylim(-0.1,1.1)\n",
        "plt.show()"
      ],
      "execution_count": 25,
      "outputs": [
        {
          "output_type": "display_data",
          "data": {
            "image/png": "[encoded data removed]",
            "text/plain": [
              "<Figure size 432x288 with 1 Axes>"
            ]
          },
          "metadata": {
            "tags": [],
            "needs_background": "light"
          }
        }
      ]
    },
    {
      "cell_type": "code",
      "metadata": {
        "id": "MTkolixuNK8N"
      },
      "source": [
        "def relu(x):\n",
        "  return np.maximum(0,x)"
      ],
      "execution_count": 26,
      "outputs": []
    },
    {
      "cell_type": "code",
      "metadata": {
        "id": "IK_7RThkOHpn"
      },
      "source": [
        "y= relu(x)"
      ],
      "execution_count": 27,
      "outputs": []
    },
    {
      "cell_type": "code",
      "metadata": {
        "colab": {
          "base_uri": "https://localhost:8080/",
          "height": 282
        },
        "id": "_zQLMTvBOMH6",
        "outputId": "101f962a-42cb-43ea-f669-f62220f99299"
      },
      "source": [
        "plt.plot(x,y)\n",
        "plt.ylim(-1.0,5.5)\n",
        "plt.show"
      ],
      "execution_count": 29,
      "outputs": [
        {
          "output_type": "execute_result",
          "data": {
            "text/plain": [
              "<function matplotlib.pyplot.show>"
            ]
          },
          "metadata": {
            "tags": []
          },
          "execution_count": 29
        },
        {
          "output_type": "display_data",
          "data": {
            "image/png": "[encoded data removed]",
            "text/plain": [
              "<Figure size 432x288 with 1 Axes>"
            ]
          },
          "metadata": {
            "tags": [],
            "needs_background": "light"
          }
        }
      ]
    },
    {
      "cell_type": "code",
      "metadata": {
        "id": "gVeiWSfDO-eJ"
      },
      "source": [
        "import numpy as np\n",
        "\n",
        "def commonCompare(tmp):\n",
        "   if tmp<=0:\n",
        "      return 0\n",
        "   else:\n",
        "     return 1\n",
        "\n",
        "def AND(x1,x2):\n",
        "  x = np.array([x1,x2])\n",
        "  w = np.array([0.5,0.5])\n",
        "  b = -0.7\n",
        "  tmp= np.sum(w+x) +b\n",
        "  return commonCompare(tmp)\n",
        "\n",
        " "
      ],
      "execution_count": 34,
      "outputs": []
    },
    {
      "cell_type": "code",
      "metadata": {
        "colab": {
          "base_uri": "https://localhost:8080/"
        },
        "id": "R9hAhrwOQVWU",
        "outputId": "157133f9-576d-4563-d57a-567abba9b11b"
      },
      "source": [
        "print(AND(0,0))"
      ],
      "execution_count": 35,
      "outputs": [
        {
          "output_type": "stream",
          "text": [
            "1\n"
          ],
          "name": "stdout"
        }
      ]
    },
    {
      "cell_type": "code",
      "metadata": {
        "id": "gDEhuFsePxyD"
      },
      "source": [
        "def OR(x1,x2):\n",
        "  x = np.array([x1,x2])\n",
        "  w = np.array([0.5,0.5])\n",
        "  b = -0.4\n",
        "  tmp= np.sum(w+x) + b\n",
        "  return commonCompare(tmp)\n",
        "\n",
        "  print(OR(0.0))\n",
        "  print(OR(1.0))\n",
        "  print(OR(0.1))\n",
        "  print(OR(1.1))"
      ],
      "execution_count": 39,
      "outputs": []
    },
    {
      "cell_type": "code",
      "metadata": {
        "id": "GU5Hc7W3TKIV"
      },
      "source": [
        "def XOR(x1, x2):\n",
        "  s1 = NAND(x1,x2)\n",
        "  s2 = OR(x1,x2)\n",
        "  y = AND(s1,s2)\n",
        "  return y\n",
        "\n",
        "  print(OR(0.0))\n",
        "  print(OR(1.0))\n",
        "  print(OR(0.1))\n",
        "  print(OR(1.1))"
      ],
      "execution_count": 40,
      "outputs": []
    },
    {
      "cell_type": "code",
      "metadata": {
        "colab": {
          "base_uri": "https://localhost:8080/"
        },
        "id": "DBExYE1Eiq-N",
        "outputId": "da9fbbdb-08e6-4373-bdf7-d1f347717907"
      },
      "source": [
        "import numpy as np\n",
        "\n",
        "def simple_derivative(f,var):\n",
        "  delta = 1e-5 \n",
        "  diff_val = (f(var+ delta) -f(var -delta))/(2*delta)\n",
        "  return diff_val\n",
        "\n",
        "def func1(x):\n",
        "  return x**2\n",
        "\n",
        "f = lambda x : func1(x)\n",
        "\n",
        "ret_val = simple_derivative(f,3.0)\n",
        "print(ret_val)"
      ],
      "execution_count": 44,
      "outputs": [
        {
          "output_type": "stream",
          "text": [
            "6.000000000039306\n"
          ],
          "name": "stdout"
        }
      ]
    }
  ]
}