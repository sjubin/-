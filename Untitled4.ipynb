{
  "nbformat": 4,
  "nbformat_minor": 0,
  "metadata": {
    "colab": {
      "name": "Untitled4.ipynb",
      "provenance": [],
      "authorship_tag": "ABX9TyOmp2Yb7XbdYzCVZaXmcLk8",
      "include_colab_link": true
    },
    "kernelspec": {
      "name": "python3",
      "display_name": "Python 3"
    },
    "language_info": {
      "name": "python"
    }
  },
  "cells": [
    {
      "cell_type": "markdown",
      "metadata": {
        "id": "view-in-github",
        "colab_type": "text"
      },
      "source": [
        "<a href=\"https://colab.research.google.com/github/sjubin/-/blob/master/Untitled4.ipynb\" target=\"_parent\"><img src=\"https://colab.research.google.com/assets/colab-badge.svg\" alt=\"Open In Colab\"/></a>"
      ]
    },
    {
      "cell_type": "code",
      "metadata": {
        "colab": {
          "base_uri": "https://localhost:8080/"
        },
        "id": "AmUZMNtynzAE",
        "outputId": "3ca5e39b-1577-48e3-9367-395b48a7126e"
      },
      "source": [
        "# %tensorflow_version 1.x\n",
        "import tensorflow\n",
        "print(tensorflow.__version__)"
      ],
      "execution_count": 1,
      "outputs": [
        {
          "output_type": "stream",
          "text": [
            "2.5.0\n"
          ],
          "name": "stdout"
        }
      ]
    },
    {
      "cell_type": "code",
      "metadata": {
        "id": "T4uGvfojn57N"
      },
      "source": [
        "import numpy as np\n",
        "import pandas as pd\n",
        "import matplotlib.pyplot as plt\n",
        "\n",
        "import tensorflow as tf\n",
        "from tensorflow import keras\n",
        "from tensorflow.keras import Sequential\n",
        "from tensorflow.keras import optimizers\n",
        "from tensorflow.keras.layers import Dense, Input\n",
        "\n",
        "import time"
      ],
      "execution_count": 2,
      "outputs": []
    },
    {
      "cell_type": "code",
      "metadata": {
        "colab": {
          "base_uri": "https://localhost:8080/"
        },
        "id": "CzAjv4Cnn-Os",
        "outputId": "07e3aae4-cda5-4953-84d0-3f2203cdb2aa"
      },
      "source": [
        "from tensorflow.python.client import device_lib\n",
        "print(tf.test.gpu_device_name())"
      ],
      "execution_count": 3,
      "outputs": [
        {
          "output_type": "stream",
          "text": [
            "\n"
          ],
          "name": "stdout"
        }
      ]
    },
    {
      "cell_type": "code",
      "metadata": {
        "colab": {
          "base_uri": "https://localhost:8080/"
        },
        "id": "wNrhtFG7oBhO",
        "outputId": "5eeab49e-0a1b-4d72-cb5c-40ee7fbfd46d"
      },
      "source": [
        "!nvidia-smi"
      ],
      "execution_count": 4,
      "outputs": [
        {
          "output_type": "stream",
          "text": [
            "NVIDIA-SMI has failed because it couldn't communicate with the NVIDIA driver. Make sure that the latest NVIDIA driver is installed and running.\n",
            "\n"
          ],
          "name": "stdout"
        }
      ]
    },
    {
      "cell_type": "code",
      "metadata": {
        "colab": {
          "base_uri": "https://localhost:8080/",
          "height": 282
        },
        "id": "ZSOUr4mpoFo9",
        "outputId": "3288cc52-6f77-4cd1-c8b5-36add3bd733a"
      },
      "source": [
        "import numpy as np\n",
        "\n",
        "x = np.arange(-1,1,0.01)\n",
        "y = x**2\n",
        "\n",
        "plt.scatter(x,y)"
      ],
      "execution_count": 5,
      "outputs": [
        {
          "output_type": "execute_result",
          "data": {
            "text/plain": [
              "<matplotlib.collections.PathCollection at 0x7fb2fecd58d0>"
            ]
          },
          "metadata": {
            "tags": []
          },
          "execution_count": 5
        },
        {
          "output_type": "display_data",
          "data": {
            "image/png": "[encoded data removed]",
            "text/plain": [
              "<Figure size 432x288 with 1 Axes>"
            ]
          },
          "metadata": {
            "tags": [],
            "needs_background": "light"
          }
        }
      ]
    },
    {
      "cell_type": "code",
      "metadata": {
        "colab": {
          "base_uri": "https://localhost:8080/",
          "height": 282
        },
        "id": "iKTODOg4oKLD",
        "outputId": "e7c1949d-7567-4998-e470-a548ff4d2fe4"
      },
      "source": [
        "# 모델 정의\n",
        "model = Sequential()\n",
        "model.add(Input(1))\n",
        "model.add(Dense(10, activation='tanh'))\n",
        "model.add(Dense(10, activation='tanh'))\n",
        "model.add(Dense(1))\n",
        "\n",
        "\n",
        "# 컴파일 : 모델 + optimizer + loss\n",
        "model.compile(optimizer=\"SGD\", loss=\"mse\")\n",
        "\n",
        "\n",
        "# 학습\n",
        "model.fit(x, y, epochs=1000, verbose=0, batch_size=20)\n",
        "\n",
        "\n",
        "# 예측\n",
        "y_ = model.predict(x)\n",
        "\n",
        "\n",
        "# 결과 그래프로 보기\n",
        "plt.scatter(x,y) # 정답\n",
        "plt.scatter(x,y_,color='r') # 결과\n",
        "plt.show()"
      ],
      "execution_count": 6,
      "outputs": [
        {
          "output_type": "stream",
          "text": [
            "WARNING:tensorflow:Please add `keras.layers.InputLayer` instead of `keras.Input` to Sequential model. `keras.Input` is intended to be used by Functional model.\n"
          ],
          "name": "stdout"
        },
        {
          "output_type": "display_data",
          "data": {
            "image/png": "[encoded data removed]",
            "text/plain": [
              "<Figure size 432x288 with 1 Axes>"
            ]
          },
          "metadata": {
            "tags": [],
            "needs_background": "light"
          }
        }
      ]
    },
    {
      "cell_type": "code",
      "metadata": {
        "colab": {
          "base_uri": "https://localhost:8080/",
          "height": 318
        },
        "id": "tXFBmmLZoQoa",
        "outputId": "0b27ebae-d35d-4d78-cf95-1b130b5f3a35"
      },
      "source": [
        "model = Sequential()\n",
        "#model.add(Input(1))\n",
        "model.add(Dense(10, activation='tanh', input_shape=(1,) ))    # 3-2에서 사용한 Input 방식 외에 이런 방식도 사용할 수 있음\n",
        "model.add(Dense(10, activation='tanh' ))\n",
        "model.add(Dense(1))\n",
        "\n",
        "\n",
        "#model.compile(optimizer=\"SGD\", loss=\"mse\")\n",
        "model.compile(optimizer=\"SGD\", loss=\"mse\", metrics=[\"mse\"])   # 정보를 보기위한 Key를 metrics에 추가\n",
        "\n",
        "\n",
        "model.fit(x, y, epochs=1000, verbose=0, batch_size=20)\n",
        "\n",
        "\n",
        "loss, mse = model.evaluate(x, y) # ADD\n",
        "print(\"loss=\",loss) # ADD\n",
        "print(\"mse=\",mse) # ADD\n",
        "\n",
        "\n",
        "y_ = model.predict(x)\n",
        "\n",
        "\n",
        "plt.scatter(x,y)\n",
        "plt.scatter(x,y_,color='r')\n",
        "plt.show()"
      ],
      "execution_count": 7,
      "outputs": [
        {
          "output_type": "stream",
          "text": [
            "7/7 [==============================] - 0s 2ms/step - loss: 0.0010 - mse: 0.0010\n",
            "loss= 0.0010229815961793065\n",
            "mse= 0.0010229815961793065\n"
          ],
          "name": "stdout"
        },
        {
          "output_type": "display_data",
          "data": {
            "image/png": "[encoded data removed]",
            "text/plain": [
              "<Figure size 432x288 with 1 Axes>"
            ]
          },
          "metadata": {
            "tags": [],
            "needs_background": "light"
          }
        }
      ]
    },
    {
      "cell_type": "code",
      "metadata": {
        "colab": {
          "base_uri": "https://localhost:8080/",
          "height": 265
        },
        "id": "KhOL6-99oUrL",
        "outputId": "ed100a1d-4009-4255-afa1-6b07e16548ba"
      },
      "source": [
        "x = np.arange(-1,1,0.01)\n",
        "np.random.shuffle(x)\n",
        "y = x**2\n",
        "\n",
        "split_index = int(x.shape[0]*0.6)\n",
        "\n",
        "train_x, test_x = x[:split_index], x[split_index:]\n",
        "train_y, test_y = y[:split_index], y[split_index:]\n",
        "\n",
        "plt.scatter(train_x,train_y)\n",
        "plt.scatter(test_x,test_y)\n",
        "plt.show()"
      ],
      "execution_count": 8,
      "outputs": [
        {
          "output_type": "display_data",
          "data": {
            "image/png": "[encoded data removed]",
            "text/plain": [
              "<Figure size 432x288 with 1 Axes>"
            ]
          },
          "metadata": {
            "tags": [],
            "needs_background": "light"
          }
        }
      ]
    },
    {
      "cell_type": "code",
      "metadata": {
        "colab": {
          "base_uri": "https://localhost:8080/",
          "height": 318
        },
        "id": "QY_76OT1oXfl",
        "outputId": "c052a312-67e8-4744-b2e2-a3cd7edf56fc"
      },
      "source": [
        "model = Sequential()\n",
        "model.add(Dense(10, activation='tanh', input_shape=(1,)))\n",
        "model.add(Dense(10, activation='tanh'))\n",
        "model.add(Dense(1))\n",
        "\n",
        "\n",
        "model.compile(optimizer=\"SGD\", loss=\"mse\", metrics=[\"mse\"])\n",
        "\n",
        "\n",
        "# model.fit(x, y, epochs=1000, verbose=0, batch_size=20)\n",
        "model.fit(train_x, train_y, epochs=1000, verbose=0, batch_size=20)\n",
        "\n",
        "\n",
        "# loss, mse = model.evaluate(x, y)\n",
        "loss, mse = model.evaluate(test_x, test_y)\n",
        "print(\"loss=\",loss)\n",
        "print(\"mse=\",mse)\n",
        "\n",
        "\n",
        "# y_ = model.predict(x)\n",
        "y_ = model.predict(test_x)\n",
        "\n",
        "# plt.scatter(x,y)\n",
        "plt.scatter(test_x,test_y)\n",
        "# plt.scatter(x,y_,color='r')\n",
        "plt.scatter(test_x,y_,color='r')\n",
        "plt.show()"
      ],
      "execution_count": 9,
      "outputs": [
        {
          "output_type": "stream",
          "text": [
            "3/3 [==============================] - 0s 4ms/step - loss: 0.0017 - mse: 0.0017\n",
            "loss= 0.0017115495866164565\n",
            "mse= 0.0017115495866164565\n"
          ],
          "name": "stdout"
        },
        {
          "output_type": "display_data",
          "data": {
            "image/png": "[encoded data removed]",
            "text/plain": [
              "<Figure size 432x288 with 1 Axes>"
            ]
          },
          "metadata": {
            "tags": [],
            "needs_background": "light"
          }
        }
      ]
    },
    {
      "cell_type": "code",
      "metadata": {
        "colab": {
          "base_uri": "https://localhost:8080/",
          "height": 553
        },
        "id": "vhTztxUwoj5c",
        "outputId": "ac0536ac-6966-4bda-af9f-385779acc23a"
      },
      "source": [
        "\n",
        "plt.scatter(test_x,test_y)\n",
        "plt.scatter(test_x,y_,color='r')\n",
        "plt.savefig(\"base_result.png\")\n",
        "\n",
        "\n",
        "from IPython.display import Image\n",
        "display(Image(\"base_result.png\"))"
      ],
      "execution_count": 10,
      "outputs": [
        {
          "output_type": "display_data",
          "data": {
            "image/png": "[encoded data removed]",
            "text/plain": [
              "<IPython.core.display.Image object>"
            ]
          },
          "metadata": {
            "tags": []
          }
        },
        {
          "output_type": "display_data",
          "data": {
            "image/png": "[encoded data removed]",
            "text/plain": [
              "<Figure size 432x288 with 1 Axes>"
            ]
          },
          "metadata": {
            "tags": [],
            "needs_background": "light"
          }
        }
      ]
    },
    {
      "cell_type": "code",
      "metadata": {
        "colab": {
          "base_uri": "https://localhost:8080/",
          "height": 335
        },
        "id": "x1PjTJl0oniv",
        "outputId": "634e3b9a-b40b-4f03-e64e-69e6a160c1d1"
      },
      "source": [
        "model = Sequential()\n",
        "model.add(Dense(10, activation='tanh', input_shape=(1,)))\n",
        "model.add(Dense(10, activation='tanh'))\n",
        "model.add(Dense(1))\n",
        "\n",
        "\n",
        "model.compile(optimizer=\"SGD\", loss=\"mse\", metrics=[\"mse\"])\n",
        "\n",
        "start_time = time.time() # ADD\n",
        "model.fit(train_x, train_y, epochs=1000, verbose=0, batch_size=20)\n",
        "print(\"elapsed : {}\".format(time.time() - start_time)) # ADD \n",
        "    \n",
        "\n",
        "loss, mse = model.evaluate(test_x, test_y)\n",
        "print(\"loss=\",loss)\n",
        "print(\"mse=\",mse)\n",
        "\n",
        "\n",
        "y_ = model.predict(test_x)\n",
        "\n",
        "plt.scatter(test_x,test_y)\n",
        "plt.scatter(test_x,y_,color='r')\n",
        "plt.show()"
      ],
      "execution_count": 11,
      "outputs": [
        {
          "output_type": "stream",
          "text": [
            "elapsed : 10.557090044021606\n",
            "3/3 [==============================] - 0s 6ms/step - loss: 0.0026 - mse: 0.0026\n",
            "loss= 0.00257296534255147\n",
            "mse= 0.00257296534255147\n"
          ],
          "name": "stdout"
        },
        {
          "output_type": "display_data",
          "data": {
            "image/png": "[encoded data removed]",
            "text/plain": [
              "<Figure size 432x288 with 1 Axes>"
            ]
          },
          "metadata": {
            "tags": [],
            "needs_background": "light"
          }
        }
      ]
    },
    {
      "cell_type": "code",
      "metadata": {
        "colab": {
          "base_uri": "https://localhost:8080/",
          "height": 529
        },
        "id": "FIJGZz7jowRI",
        "outputId": "7d09d409-363b-4e37-eeb1-ccf0622fb1fc"
      },
      "source": [
        "model = Sequential()\n",
        "model.add(Dense(10, activation='tanh', input_shape=(1,)))\n",
        "model.add(Dense(10, activation='tanh'))\n",
        "model.add(Dense(1))\n",
        "\n",
        "\n",
        "model.compile(optimizer=\"SGD\", loss=\"mse\", metrics=[\"mse\"])\n",
        "model.summary() # ADD\n",
        "\n",
        "start_time = time.time()\n",
        "model.fit(train_x, train_y, epochs=1000, verbose=0, batch_size=20)\n",
        "print(\"elapsed : {}\".format(time.time() - start_time))\n",
        "\n",
        "\n",
        "y_ = model.predict(test_x)\n",
        "\n",
        "plt.scatter(test_x,test_y)\n",
        "plt.scatter(test_x,y_,color='r')\n",
        "plt.show()"
      ],
      "execution_count": 12,
      "outputs": [
        {
          "output_type": "stream",
          "text": [
            "Model: \"sequential_4\"\n",
            "_________________________________________________________________\n",
            "Layer (type)                 Output Shape              Param #   \n",
            "=================================================================\n",
            "dense_12 (Dense)             (None, 10)                20        \n",
            "_________________________________________________________________\n",
            "dense_13 (Dense)             (None, 10)                110       \n",
            "_________________________________________________________________\n",
            "dense_14 (Dense)             (None, 1)                 11        \n",
            "=================================================================\n",
            "Total params: 141\n",
            "Trainable params: 141\n",
            "Non-trainable params: 0\n",
            "_________________________________________________________________\n",
            "elapsed : 6.465623617172241\n"
          ],
          "name": "stdout"
        },
        {
          "output_type": "display_data",
          "data": {
            "image/png": "[encoded data removed]",
            "text/plain": [
              "<Figure size 432x288 with 1 Axes>"
            ]
          },
          "metadata": {
            "tags": [],
            "needs_background": "light"
          }
        }
      ]
    },
    {
      "cell_type": "code",
      "metadata": {
        "colab": {
          "base_uri": "https://localhost:8080/",
          "height": 619
        },
        "id": "WO7Lv-XVo2Cs",
        "outputId": "c01a47c6-8f9c-4258-ed1d-c43d991ae1b6"
      },
      "source": [
        "import numpy as np\n",
        "import matplotlib.pyplot as plt\n",
        "\n",
        "from tensorflow import keras\n",
        "from tensorflow.keras import optimizers\n",
        "from tensorflow.keras.layers import Dense\n",
        "\n",
        "import time\n",
        "\n",
        "\n",
        "# 모델 정의\n",
        "model = Sequential()\n",
        "model.add(Dense(10, activation='tanh', input_shape=(1,)))\n",
        "model.add(Dense(10, activation='tanh'))\n",
        "model.add(Dense(1))\n",
        "\n",
        "\n",
        "# 모델 컴파일\n",
        "model.compile(optimizer=\"SGD\", loss=\"mse\", metrics=[\"mse\"])\n",
        "model.summary()\n",
        "\n",
        "\n",
        "# 학습\n",
        "start_time = time.time()\n",
        "model.fit(train_x, train_y, epochs=1000, verbose=0, batch_size=20)\n",
        "print(\"elapsed : {}\".format(time.time() - start_time))\n",
        "\n",
        "\n",
        "# 평가\n",
        "loss, mse = model.evaluate(test_x, test_y)\n",
        "print(\"loss=\",loss)\n",
        "print(\"mse=\",mse)\n",
        "\n",
        "\n",
        "# 예측\n",
        "y_ = model.predict(test_x)\n",
        "\n",
        "plt.scatter(test_x,test_y)\n",
        "plt.scatter(test_x,y_,color='r')\n",
        "plt.show()"
      ],
      "execution_count": 13,
      "outputs": [
        {
          "output_type": "stream",
          "text": [
            "Model: \"sequential_5\"\n",
            "_________________________________________________________________\n",
            "Layer (type)                 Output Shape              Param #   \n",
            "=================================================================\n",
            "dense_15 (Dense)             (None, 10)                20        \n",
            "_________________________________________________________________\n",
            "dense_16 (Dense)             (None, 10)                110       \n",
            "_________________________________________________________________\n",
            "dense_17 (Dense)             (None, 1)                 11        \n",
            "=================================================================\n",
            "Total params: 141\n",
            "Trainable params: 141\n",
            "Non-trainable params: 0\n",
            "_________________________________________________________________\n",
            "elapsed : 6.24039101600647\n",
            "3/3 [==============================] - 0s 4ms/step - loss: 0.0021 - mse: 0.0021\n",
            "loss= 0.002082300838083029\n",
            "mse= 0.002082300838083029\n",
            "WARNING:tensorflow:5 out of the last 17 calls to <function Model.make_predict_function.<locals>.predict_function at 0x7fb2f014ff80> triggered tf.function retracing. Tracing is expensive and the excessive number of tracings could be due to (1) creating @tf.function repeatedly in a loop, (2) passing tensors with different shapes, (3) passing Python objects instead of tensors. For (1), please define your @tf.function outside of the loop. For (2), @tf.function has experimental_relax_shapes=True option that relaxes argument shapes that can avoid unnecessary retracing. For (3), please refer to https://www.tensorflow.org/guide/function#controlling_retracing and https://www.tensorflow.org/api_docs/python/tf/function for  more details.\n"
          ],
          "name": "stdout"
        },
        {
          "output_type": "display_data",
          "data": {
            "image/png": "[encoded data removed]",
            "text/plain": [
              "<Figure size 432x288 with 1 Axes>"
            ]
          },
          "metadata": {
            "tags": [],
            "needs_background": "light"
          }
        }
      ]
    },
    {
      "cell_type": "code",
      "metadata": {
        "id": "LjWNgq982Jkt"
      },
      "source": [
        "def build_square_data(all_low, all_high, square_low, square_high, zero_count, one_count):\n",
        "\n",
        "  x1 = np.random.rand(one_count)\n",
        "  x1 = x1*(square_high-square_low) + square_low\n",
        "\n",
        "  x0 = np.random.rand(zero_count*100)\n",
        "  x0 = x0[ (x0<square_low) | (square_high<x0) ]\n",
        "  x0 = x0[:zero_count]\n",
        "\n",
        "  x = np.append(x1, x0)\n",
        "\n",
        "  plt.hist(x)\n",
        "  plt.xlim(0, 1)\n",
        "  plt.show()\n",
        "\n",
        "  # 범위 안의 것을 1, 범위 밖의 것을 0으로 하고\n",
        "  all_data = np.ones((len(x),2))\n",
        "  all_data[:,0] = x\n",
        "\n",
        "  all_data[:len(x1),1] = 1\n",
        "  all_data[len(x1):,1] = 0\n",
        "\n",
        "  # 섞는다\n",
        "  np.random.shuffle(all_data)\n",
        "\n",
        "  # x, y로 분리하고\n",
        "  x = all_data[:,0]\n",
        "  y = all_data[:,1]\n",
        "\n",
        "  plt.xlim(0, 1)\n",
        "\n",
        "  plt.scatter(x, y)\n",
        "\n",
        "  return x, y"
      ],
      "execution_count": 14,
      "outputs": []
    },
    {
      "cell_type": "code",
      "metadata": {
        "colab": {
          "base_uri": "https://localhost:8080/",
          "height": 513
        },
        "id": "0Srz4xGQ2My4",
        "outputId": "3e953b04-154e-407d-d9b9-7d3940de6199"
      },
      "source": [
        "all_low = 0\n",
        "all_high = 1\n",
        "square_low = 0.5\n",
        "square_high = 0.6\n",
        "zero_count = 10000\n",
        "one_count = 10000\n",
        "\n",
        "train_x, train_y = build_square_data(all_low, all_high, square_low, square_high, zero_count, one_count)"
      ],
      "execution_count": 15,
      "outputs": [
        {
          "output_type": "display_data",
          "data": {
            "image/png": "[encoded data removed]",
            "text/plain": [
              "<Figure size 432x288 with 1 Axes>"
            ]
          },
          "metadata": {
            "tags": [],
            "needs_background": "light"
          }
        },
        {
          "output_type": "display_data",
          "data": {
            "image/png": "[encoded data removed]",
            "text/plain": [
              "<Figure size 432x288 with 1 Axes>"
            ]
          },
          "metadata": {
            "tags": [],
            "needs_background": "light"
          }
        }
      ]
    },
    {
      "cell_type": "code",
      "metadata": {
        "colab": {
          "base_uri": "https://localhost:8080/",
          "height": 1000
        },
        "id": "e_UNa53o2UX8",
        "outputId": "4502cbe7-6a80-4160-d9ab-7084bc13ee03"
      },
      "source": [
        "from tensorflow import keras\n",
        "from tensorflow.keras import optimizers\n",
        "from tensorflow.keras.layers import Dense\n",
        "from tensorflow.keras.optimizers import SGD\n",
        "\n",
        "\n",
        "model = keras.Sequential()\n",
        "model.add(Dense(10, activation='relu', input_shape=(1,)))\n",
        "model.add(Dense(10, activation='relu'))\n",
        "model.add(Dense(10, activation='relu'))\n",
        "model.add(Dense(1, activation=\"sigmoid\"))\n",
        "\n",
        "\n",
        "model.compile(optimizer=\"SGD\", loss=\"mse\")\n",
        "model.fit(train_x, train_y, epochs=100, verbose=1, batch_size=32, validation_split=0.1)\n",
        "\n",
        "x_ = np.arange(all_low, all_high, 0.01)\n",
        "y_ = model.predict(x_)\n",
        "plt.scatter(x_, y_)"
      ],
      "execution_count": 16,
      "outputs": [
        {
          "output_type": "stream",
          "text": [
            "Epoch 1/100\n",
            "542/563 [===========================>..] - ETA: 0s - loss: 0.2490WARNING:tensorflow:5 out of the last 17 calls to <function Model.make_test_function.<locals>.test_function at 0x7fb2ef8418c0> triggered tf.function retracing. Tracing is expensive and the excessive number of tracings could be due to (1) creating @tf.function repeatedly in a loop, (2) passing tensors with different shapes, (3) passing Python objects instead of tensors. For (1), please define your @tf.function outside of the loop. For (2), @tf.function has experimental_relax_shapes=True option that relaxes argument shapes that can avoid unnecessary retracing. For (3), please refer to https://www.tensorflow.org/guide/function#controlling_retracing and https://www.tensorflow.org/api_docs/python/tf/function for  more details.\n",
            "563/563 [==============================] - 1s 2ms/step - loss: 0.2490 - val_loss: 0.2488\n",
            "Epoch 2/100\n",
            "563/563 [==============================] - 1s 1ms/step - loss: 0.2486 - val_loss: 0.2484\n",
            "Epoch 3/100\n",
            "563/563 [==============================] - 1s 1ms/step - loss: 0.2484 - val_loss: 0.2482\n",
            "Epoch 4/100\n",
            "563/563 [==============================] - 1s 1ms/step - loss: 0.2481 - val_loss: 0.2479\n",
            "Epoch 5/100\n",
            "563/563 [==============================] - 1s 1ms/step - loss: 0.2477 - val_loss: 0.2476\n",
            "Epoch 6/100\n",
            "563/563 [==============================] - 1s 1ms/step - loss: 0.2474 - val_loss: 0.2471\n",
            "Epoch 7/100\n",
            "563/563 [==============================] - 1s 1ms/step - loss: 0.2470 - val_loss: 0.2466\n",
            "Epoch 8/100\n",
            "563/563 [==============================] - 1s 1ms/step - loss: 0.2465 - val_loss: 0.2459\n",
            "Epoch 9/100\n",
            "563/563 [==============================] - 1s 1ms/step - loss: 0.2451 - val_loss: 0.2441\n",
            "Epoch 10/100\n",
            "563/563 [==============================] - 1s 1ms/step - loss: 0.2437 - val_loss: 0.2427\n",
            "Epoch 11/100\n",
            "563/563 [==============================] - 1s 1ms/step - loss: 0.2423 - val_loss: 0.2411\n",
            "Epoch 12/100\n",
            "563/563 [==============================] - 1s 1ms/step - loss: 0.2405 - val_loss: 0.2390\n",
            "Epoch 13/100\n",
            "563/563 [==============================] - 1s 1ms/step - loss: 0.2381 - val_loss: 0.2362\n",
            "Epoch 14/100\n",
            "563/563 [==============================] - 1s 1ms/step - loss: 0.2350 - val_loss: 0.2327\n",
            "Epoch 15/100\n",
            "563/563 [==============================] - 1s 1ms/step - loss: 0.2311 - val_loss: 0.2282\n",
            "Epoch 16/100\n",
            "563/563 [==============================] - 1s 1ms/step - loss: 0.2262 - val_loss: 0.2225\n",
            "Epoch 17/100\n",
            "563/563 [==============================] - 1s 1ms/step - loss: 0.2200 - val_loss: 0.2156\n",
            "Epoch 18/100\n",
            "563/563 [==============================] - 1s 1ms/step - loss: 0.2112 - val_loss: 0.2059\n",
            "Epoch 19/100\n",
            "563/563 [==============================] - 1s 1ms/step - loss: 0.2024 - val_loss: 0.1967\n",
            "Epoch 20/100\n",
            "563/563 [==============================] - 1s 1ms/step - loss: 0.1924 - val_loss: 0.1859\n",
            "Epoch 21/100\n",
            "563/563 [==============================] - 1s 1ms/step - loss: 0.1807 - val_loss: 0.1730\n",
            "Epoch 22/100\n",
            "563/563 [==============================] - 1s 1ms/step - loss: 0.1663 - val_loss: 0.1569\n",
            "Epoch 23/100\n",
            "563/563 [==============================] - 1s 1ms/step - loss: 0.1482 - val_loss: 0.1371\n",
            "Epoch 24/100\n",
            "563/563 [==============================] - 1s 1ms/step - loss: 0.1265 - val_loss: 0.1146\n",
            "Epoch 25/100\n",
            "563/563 [==============================] - 1s 1ms/step - loss: 0.1047 - val_loss: 0.0939\n",
            "Epoch 26/100\n",
            "563/563 [==============================] - 1s 1ms/step - loss: 0.0865 - val_loss: 0.0779\n",
            "Epoch 27/100\n",
            "563/563 [==============================] - 1s 1ms/step - loss: 0.0725 - val_loss: 0.0659\n",
            "Epoch 28/100\n",
            "563/563 [==============================] - 1s 1ms/step - loss: 0.0623 - val_loss: 0.0572\n",
            "Epoch 29/100\n",
            "563/563 [==============================] - 1s 1ms/step - loss: 0.0547 - val_loss: 0.0509\n",
            "Epoch 30/100\n",
            "563/563 [==============================] - 1s 1ms/step - loss: 0.0489 - val_loss: 0.0453\n",
            "Epoch 31/100\n",
            "563/563 [==============================] - 1s 1ms/step - loss: 0.0443 - val_loss: 0.0412\n",
            "Epoch 32/100\n",
            "563/563 [==============================] - 1s 1ms/step - loss: 0.0405 - val_loss: 0.0379\n",
            "Epoch 33/100\n",
            "563/563 [==============================] - 1s 1ms/step - loss: 0.0374 - val_loss: 0.0350\n",
            "Epoch 34/100\n",
            "563/563 [==============================] - 1s 1ms/step - loss: 0.0347 - val_loss: 0.0326\n",
            "Epoch 35/100\n",
            "563/563 [==============================] - 1s 1ms/step - loss: 0.0325 - val_loss: 0.0307\n",
            "Epoch 36/100\n",
            "563/563 [==============================] - 1s 1ms/step - loss: 0.0305 - val_loss: 0.0288\n",
            "Epoch 37/100\n",
            "563/563 [==============================] - 1s 1ms/step - loss: 0.0288 - val_loss: 0.0276\n",
            "Epoch 38/100\n",
            "563/563 [==============================] - 1s 1ms/step - loss: 0.0273 - val_loss: 0.0258\n",
            "Epoch 39/100\n",
            "563/563 [==============================] - 1s 1ms/step - loss: 0.0259 - val_loss: 0.0246\n",
            "Epoch 40/100\n",
            "563/563 [==============================] - 1s 1ms/step - loss: 0.0248 - val_loss: 0.0235\n",
            "Epoch 41/100\n",
            "563/563 [==============================] - 1s 1ms/step - loss: 0.0237 - val_loss: 0.0225\n",
            "Epoch 42/100\n",
            "563/563 [==============================] - 1s 1ms/step - loss: 0.0228 - val_loss: 0.0217\n",
            "Epoch 43/100\n",
            "563/563 [==============================] - 1s 1ms/step - loss: 0.0219 - val_loss: 0.0210\n",
            "Epoch 44/100\n",
            "563/563 [==============================] - 1s 1ms/step - loss: 0.0210 - val_loss: 0.0201\n",
            "Epoch 45/100\n",
            "563/563 [==============================] - 1s 1ms/step - loss: 0.0203 - val_loss: 0.0195\n",
            "Epoch 46/100\n",
            "563/563 [==============================] - 1s 1ms/step - loss: 0.0196 - val_loss: 0.0191\n",
            "Epoch 47/100\n",
            "563/563 [==============================] - 1s 1ms/step - loss: 0.0190 - val_loss: 0.0183\n",
            "Epoch 48/100\n",
            "563/563 [==============================] - 1s 1ms/step - loss: 0.0184 - val_loss: 0.0176\n",
            "Epoch 49/100\n",
            "563/563 [==============================] - 1s 1ms/step - loss: 0.0179 - val_loss: 0.0175\n",
            "Epoch 50/100\n",
            "563/563 [==============================] - 1s 1ms/step - loss: 0.0174 - val_loss: 0.0168\n",
            "Epoch 51/100\n",
            "563/563 [==============================] - 1s 1ms/step - loss: 0.0169 - val_loss: 0.0162\n",
            "Epoch 52/100\n",
            "563/563 [==============================] - 1s 1ms/step - loss: 0.0165 - val_loss: 0.0162\n",
            "Epoch 53/100\n",
            "563/563 [==============================] - 1s 1ms/step - loss: 0.0161 - val_loss: 0.0156\n",
            "Epoch 54/100\n",
            "563/563 [==============================] - 1s 1ms/step - loss: 0.0157 - val_loss: 0.0151\n",
            "Epoch 55/100\n",
            "563/563 [==============================] - 1s 1ms/step - loss: 0.0153 - val_loss: 0.0151\n",
            "Epoch 56/100\n",
            "563/563 [==============================] - 1s 1ms/step - loss: 0.0150 - val_loss: 0.0145\n",
            "Epoch 57/100\n",
            "563/563 [==============================] - 1s 1ms/step - loss: 0.0146 - val_loss: 0.0144\n",
            "Epoch 58/100\n",
            "563/563 [==============================] - 1s 1ms/step - loss: 0.0143 - val_loss: 0.0139\n",
            "Epoch 59/100\n",
            "563/563 [==============================] - 1s 1ms/step - loss: 0.0140 - val_loss: 0.0137\n",
            "Epoch 60/100\n",
            "563/563 [==============================] - 1s 1ms/step - loss: 0.0138 - val_loss: 0.0134\n",
            "Epoch 61/100\n",
            "563/563 [==============================] - 1s 1ms/step - loss: 0.0135 - val_loss: 0.0148\n",
            "Epoch 62/100\n",
            "563/563 [==============================] - 1s 1ms/step - loss: 0.0132 - val_loss: 0.0129\n",
            "Epoch 63/100\n",
            "563/563 [==============================] - 1s 1ms/step - loss: 0.0130 - val_loss: 0.0129\n",
            "Epoch 64/100\n",
            "563/563 [==============================] - 1s 1ms/step - loss: 0.0128 - val_loss: 0.0134\n",
            "Epoch 65/100\n",
            "563/563 [==============================] - 1s 1ms/step - loss: 0.0125 - val_loss: 0.0122\n",
            "Epoch 66/100\n",
            "563/563 [==============================] - 1s 1ms/step - loss: 0.0124 - val_loss: 0.0121\n",
            "Epoch 67/100\n",
            "563/563 [==============================] - 1s 1ms/step - loss: 0.0121 - val_loss: 0.0120\n",
            "Epoch 68/100\n",
            "563/563 [==============================] - 1s 1ms/step - loss: 0.0119 - val_loss: 0.0119\n",
            "Epoch 69/100\n",
            "563/563 [==============================] - 1s 1ms/step - loss: 0.0118 - val_loss: 0.0115\n",
            "Epoch 70/100\n",
            "563/563 [==============================] - 1s 1ms/step - loss: 0.0116 - val_loss: 0.0114\n",
            "Epoch 71/100\n",
            "563/563 [==============================] - 1s 1ms/step - loss: 0.0114 - val_loss: 0.0114\n",
            "Epoch 72/100\n",
            "563/563 [==============================] - 1s 1ms/step - loss: 0.0113 - val_loss: 0.0116\n",
            "Epoch 73/100\n",
            "563/563 [==============================] - 1s 1ms/step - loss: 0.0110 - val_loss: 0.0109\n",
            "Epoch 74/100\n",
            "563/563 [==============================] - 1s 1ms/step - loss: 0.0109 - val_loss: 0.0121\n",
            "Epoch 75/100\n",
            "563/563 [==============================] - 1s 1ms/step - loss: 0.0108 - val_loss: 0.0107\n",
            "Epoch 76/100\n",
            "563/563 [==============================] - 1s 1ms/step - loss: 0.0106 - val_loss: 0.0105\n",
            "Epoch 77/100\n",
            "563/563 [==============================] - 1s 2ms/step - loss: 0.0105 - val_loss: 0.0104\n",
            "Epoch 78/100\n",
            "563/563 [==============================] - 1s 1ms/step - loss: 0.0103 - val_loss: 0.0105\n",
            "Epoch 79/100\n",
            "563/563 [==============================] - 1s 1ms/step - loss: 0.0102 - val_loss: 0.0109\n",
            "Epoch 80/100\n",
            "563/563 [==============================] - 1s 1ms/step - loss: 0.0102 - val_loss: 0.0102\n",
            "Epoch 81/100\n",
            "563/563 [==============================] - 1s 1ms/step - loss: 0.0100 - val_loss: 0.0099\n",
            "Epoch 82/100\n",
            "563/563 [==============================] - 1s 1ms/step - loss: 0.0098 - val_loss: 0.0098\n",
            "Epoch 83/100\n",
            "563/563 [==============================] - 1s 1ms/step - loss: 0.0098 - val_loss: 0.0097\n",
            "Epoch 84/100\n",
            "563/563 [==============================] - 1s 1ms/step - loss: 0.0097 - val_loss: 0.0096\n",
            "Epoch 85/100\n",
            "563/563 [==============================] - 1s 1ms/step - loss: 0.0096 - val_loss: 0.0095\n",
            "Epoch 86/100\n",
            "563/563 [==============================] - 1s 1ms/step - loss: 0.0095 - val_loss: 0.0094\n",
            "Epoch 87/100\n",
            "563/563 [==============================] - 1s 1ms/step - loss: 0.0093 - val_loss: 0.0104\n",
            "Epoch 88/100\n",
            "563/563 [==============================] - 1s 1ms/step - loss: 0.0092 - val_loss: 0.0092\n",
            "Epoch 89/100\n",
            "563/563 [==============================] - 1s 1ms/step - loss: 0.0091 - val_loss: 0.0092\n",
            "Epoch 90/100\n",
            "563/563 [==============================] - 1s 1ms/step - loss: 0.0091 - val_loss: 0.0093\n",
            "Epoch 91/100\n",
            "563/563 [==============================] - 1s 1ms/step - loss: 0.0091 - val_loss: 0.0090\n",
            "Epoch 92/100\n",
            "563/563 [==============================] - 1s 1ms/step - loss: 0.0089 - val_loss: 0.0091\n",
            "Epoch 93/100\n",
            "563/563 [==============================] - 1s 1ms/step - loss: 0.0088 - val_loss: 0.0090\n",
            "Epoch 94/100\n",
            "563/563 [==============================] - 1s 1ms/step - loss: 0.0087 - val_loss: 0.0087\n",
            "Epoch 95/100\n",
            "563/563 [==============================] - 1s 1ms/step - loss: 0.0087 - val_loss: 0.0086\n",
            "Epoch 96/100\n",
            "563/563 [==============================] - 1s 1ms/step - loss: 0.0086 - val_loss: 0.0086\n",
            "Epoch 97/100\n",
            "563/563 [==============================] - 1s 2ms/step - loss: 0.0085 - val_loss: 0.0090\n",
            "Epoch 98/100\n",
            "563/563 [==============================] - 1s 1ms/step - loss: 0.0084 - val_loss: 0.0084\n",
            "Epoch 99/100\n",
            "563/563 [==============================] - 1s 1ms/step - loss: 0.0083 - val_loss: 0.0085\n",
            "Epoch 100/100\n",
            "563/563 [==============================] - 1s 1ms/step - loss: 0.0082 - val_loss: 0.0088\n",
            "WARNING:tensorflow:5 out of the last 13 calls to <function Model.make_predict_function.<locals>.predict_function at 0x7fb2f0a0e3b0> triggered tf.function retracing. Tracing is expensive and the excessive number of tracings could be due to (1) creating @tf.function repeatedly in a loop, (2) passing tensors with different shapes, (3) passing Python objects instead of tensors. For (1), please define your @tf.function outside of the loop. For (2), @tf.function has experimental_relax_shapes=True option that relaxes argument shapes that can avoid unnecessary retracing. For (3), please refer to https://www.tensorflow.org/guide/function#controlling_retracing and https://www.tensorflow.org/api_docs/python/tf/function for  more details.\n"
          ],
          "name": "stdout"
        },
        {
          "output_type": "execute_result",
          "data": {
            "text/plain": [
              "<matplotlib.collections.PathCollection at 0x7fb2ee61ef50>"
            ]
          },
          "metadata": {
            "tags": []
          },
          "execution_count": 16
        },
        {
          "output_type": "display_data",
          "data": {
            "image/png": "[encoded data removed]",
            "text/plain": [
              "<Figure size 432x288 with 1 Axes>"
            ]
          },
          "metadata": {
            "tags": [],
            "needs_background": "light"
          }
        }
      ]
    },
    {
      "cell_type": "code",
      "metadata": {
        "colab": {
          "base_uri": "https://localhost:8080/",
          "height": 513
        },
        "id": "TP7f6y_J20xx",
        "outputId": "c34b213a-9498-49fc-ff00-2075fc430f1e"
      },
      "source": [
        "all_low = 0\n",
        "all_high = 1\n",
        "square_low = 0.5\n",
        "square_high = 0.6\n",
        "zero_count = 10000\n",
        "one_count = 10000\n",
        "\n",
        "train_x, train_y = build_square_data(all_low, all_high, square_low, square_high, zero_count, one_count)"
      ],
      "execution_count": 17,
      "outputs": [
        {
          "output_type": "display_data",
          "data": {
            "image/png": "[encoded data removed]",
            "text/plain": [
              "<Figure size 432x288 with 1 Axes>"
            ]
          },
          "metadata": {
            "tags": [],
            "needs_background": "light"
          }
        },
        {
          "output_type": "display_data",
          "data": {
            "image/png": "[encoded data removed]",
            "text/plain": [
              "<Figure size 432x288 with 1 Axes>"
            ]
          },
          "metadata": {
            "tags": [],
            "needs_background": "light"
          }
        }
      ]
    },
    {
      "cell_type": "code",
      "metadata": {
        "id": "s3eDwyQH23Nm"
      },
      "source": [
        "\n",
        "# ADD START\n",
        "reshaped_y = train_y.reshape((train_y.shape[0],1))\n",
        "train_y = np.append(reshaped_y, reshaped_y, axis=1)\n",
        "train_y[:,1] = 1-train_y[:,0]\n",
        "# ADD END"
      ],
      "execution_count": 18,
      "outputs": []
    },
    {
      "cell_type": "code",
      "metadata": {
        "colab": {
          "base_uri": "https://localhost:8080/",
          "height": 1000
        },
        "id": "-t_bOibZ25s2",
        "outputId": "352f008b-cc6c-4478-868d-d87dce53d919"
      },
      "source": [
        "from tensorflow import keras\n",
        "from tensorflow.keras import optimizers\n",
        "from tensorflow.keras.layers import Dense\n",
        "from tensorflow.keras.optimizers import SGD\n",
        "\n",
        "\n",
        "model = keras.Sequential()\n",
        "model.add(Dense(10, activation='relu', input_shape=(1,)))\n",
        "model.add(Dense(10, activation='relu'))\n",
        "model.add(Dense(10, activation='relu'))\n",
        "# model.add(Dense(1))\n",
        "model.add(Dense(2))\n",
        "\n",
        "model.compile(optimizer=\"SGD\", loss=\"mse\")\n",
        "model.fit(train_x, train_y, epochs=100, verbose=1, batch_size=32, validation_split=0.1)\n",
        "\n",
        "x_ = np.arange(all_low, all_high, 0.01)\n",
        "y_ = model.predict(x_)\n",
        "plt.scatter(x_, y_[:,0])"
      ],
      "execution_count": 19,
      "outputs": [
        {
          "output_type": "stream",
          "text": [
            "Epoch 1/100\n",
            "563/563 [==============================] - 1s 2ms/step - loss: 0.2492 - val_loss: 0.2300\n",
            "Epoch 2/100\n",
            "563/563 [==============================] - 1s 1ms/step - loss: 0.2212 - val_loss: 0.2129\n",
            "Epoch 3/100\n",
            "563/563 [==============================] - 1s 1ms/step - loss: 0.1993 - val_loss: 0.1861\n",
            "Epoch 4/100\n",
            "563/563 [==============================] - 1s 1ms/step - loss: 0.1675 - val_loss: 0.1511\n",
            "Epoch 5/100\n",
            "563/563 [==============================] - 1s 1ms/step - loss: 0.1263 - val_loss: 0.1045\n",
            "Epoch 6/100\n",
            "563/563 [==============================] - 1s 1ms/step - loss: 0.0842 - val_loss: 0.0717\n",
            "Epoch 7/100\n",
            "563/563 [==============================] - 1s 1ms/step - loss: 0.0628 - val_loss: 0.0586\n",
            "Epoch 8/100\n",
            "563/563 [==============================] - 1s 1ms/step - loss: 0.0547 - val_loss: 0.0526\n",
            "Epoch 9/100\n",
            "563/563 [==============================] - 1s 1ms/step - loss: 0.0506 - val_loss: 0.0492\n",
            "Epoch 10/100\n",
            "563/563 [==============================] - 1s 1ms/step - loss: 0.0478 - val_loss: 0.0468\n",
            "Epoch 11/100\n",
            "563/563 [==============================] - 1s 1ms/step - loss: 0.0454 - val_loss: 0.0445\n",
            "Epoch 12/100\n",
            "563/563 [==============================] - 1s 1ms/step - loss: 0.0435 - val_loss: 0.0426\n",
            "Epoch 13/100\n",
            "563/563 [==============================] - 1s 1ms/step - loss: 0.0415 - val_loss: 0.0407\n",
            "Epoch 14/100\n",
            "563/563 [==============================] - 1s 1ms/step - loss: 0.0397 - val_loss: 0.0389\n",
            "Epoch 15/100\n",
            "563/563 [==============================] - 1s 1ms/step - loss: 0.0380 - val_loss: 0.0381\n",
            "Epoch 16/100\n",
            "563/563 [==============================] - 1s 1ms/step - loss: 0.0364 - val_loss: 0.0358\n",
            "Epoch 17/100\n",
            "563/563 [==============================] - 1s 1ms/step - loss: 0.0347 - val_loss: 0.0340\n",
            "Epoch 18/100\n",
            "563/563 [==============================] - 1s 1ms/step - loss: 0.0330 - val_loss: 0.0327\n",
            "Epoch 19/100\n",
            "563/563 [==============================] - 1s 1ms/step - loss: 0.0316 - val_loss: 0.0317\n",
            "Epoch 20/100\n",
            "563/563 [==============================] - 1s 1ms/step - loss: 0.0300 - val_loss: 0.0297\n",
            "Epoch 21/100\n",
            "563/563 [==============================] - 1s 1ms/step - loss: 0.0286 - val_loss: 0.0278\n",
            "Epoch 22/100\n",
            "563/563 [==============================] - 1s 1ms/step - loss: 0.0270 - val_loss: 0.0280\n",
            "Epoch 23/100\n",
            "563/563 [==============================] - 1s 1ms/step - loss: 0.0257 - val_loss: 0.0253\n",
            "Epoch 24/100\n",
            "563/563 [==============================] - 1s 1ms/step - loss: 0.0245 - val_loss: 0.0254\n",
            "Epoch 25/100\n",
            "563/563 [==============================] - 1s 1ms/step - loss: 0.0231 - val_loss: 0.0228\n",
            "Epoch 26/100\n",
            "563/563 [==============================] - 1s 1ms/step - loss: 0.0220 - val_loss: 0.0216\n",
            "Epoch 27/100\n",
            "563/563 [==============================] - 1s 1ms/step - loss: 0.0209 - val_loss: 0.0211\n",
            "Epoch 28/100\n",
            "563/563 [==============================] - 1s 1ms/step - loss: 0.0198 - val_loss: 0.0195\n",
            "Epoch 29/100\n",
            "563/563 [==============================] - 1s 1ms/step - loss: 0.0189 - val_loss: 0.0188\n",
            "Epoch 30/100\n",
            "563/563 [==============================] - 1s 1ms/step - loss: 0.0180 - val_loss: 0.0171\n",
            "Epoch 31/100\n",
            "563/563 [==============================] - 1s 1ms/step - loss: 0.0171 - val_loss: 0.0165\n",
            "Epoch 32/100\n",
            "563/563 [==============================] - 1s 1ms/step - loss: 0.0163 - val_loss: 0.0156\n",
            "Epoch 33/100\n",
            "563/563 [==============================] - 1s 1ms/step - loss: 0.0156 - val_loss: 0.0151\n",
            "Epoch 34/100\n",
            "563/563 [==============================] - 1s 1ms/step - loss: 0.0149 - val_loss: 0.0167\n",
            "Epoch 35/100\n",
            "563/563 [==============================] - 1s 2ms/step - loss: 0.0143 - val_loss: 0.0142\n",
            "Epoch 36/100\n",
            "563/563 [==============================] - 1s 1ms/step - loss: 0.0138 - val_loss: 0.0130\n",
            "Epoch 37/100\n",
            "563/563 [==============================] - 1s 1ms/step - loss: 0.0133 - val_loss: 0.0129\n",
            "Epoch 38/100\n",
            "563/563 [==============================] - 1s 1ms/step - loss: 0.0130 - val_loss: 0.0134\n",
            "Epoch 39/100\n",
            "563/563 [==============================] - 1s 1ms/step - loss: 0.0125 - val_loss: 0.0125\n",
            "Epoch 40/100\n",
            "563/563 [==============================] - 1s 1ms/step - loss: 0.0121 - val_loss: 0.0112\n",
            "Epoch 41/100\n",
            "563/563 [==============================] - 1s 1ms/step - loss: 0.0117 - val_loss: 0.0110\n",
            "Epoch 42/100\n",
            "563/563 [==============================] - 1s 1ms/step - loss: 0.0114 - val_loss: 0.0115\n",
            "Epoch 43/100\n",
            "563/563 [==============================] - 1s 1ms/step - loss: 0.0110 - val_loss: 0.0106\n",
            "Epoch 44/100\n",
            "563/563 [==============================] - 1s 1ms/step - loss: 0.0108 - val_loss: 0.0099\n",
            "Epoch 45/100\n",
            "563/563 [==============================] - 1s 1ms/step - loss: 0.0105 - val_loss: 0.0097\n",
            "Epoch 46/100\n",
            "563/563 [==============================] - 1s 1ms/step - loss: 0.0103 - val_loss: 0.0094\n",
            "Epoch 47/100\n",
            "563/563 [==============================] - 1s 1ms/step - loss: 0.0101 - val_loss: 0.0096\n",
            "Epoch 48/100\n",
            "563/563 [==============================] - 1s 1ms/step - loss: 0.0098 - val_loss: 0.0097\n",
            "Epoch 49/100\n",
            "563/563 [==============================] - 1s 1ms/step - loss: 0.0096 - val_loss: 0.0089\n",
            "Epoch 50/100\n",
            "563/563 [==============================] - 1s 1ms/step - loss: 0.0094 - val_loss: 0.0087\n",
            "Epoch 51/100\n",
            "563/563 [==============================] - 1s 1ms/step - loss: 0.0092 - val_loss: 0.0083\n",
            "Epoch 52/100\n",
            "563/563 [==============================] - 1s 1ms/step - loss: 0.0089 - val_loss: 0.0081\n",
            "Epoch 53/100\n",
            "563/563 [==============================] - 1s 1ms/step - loss: 0.0090 - val_loss: 0.0087\n",
            "Epoch 54/100\n",
            "563/563 [==============================] - 1s 1ms/step - loss: 0.0087 - val_loss: 0.0079\n",
            "Epoch 55/100\n",
            "563/563 [==============================] - 1s 1ms/step - loss: 0.0086 - val_loss: 0.0078\n",
            "Epoch 56/100\n",
            "563/563 [==============================] - 1s 1ms/step - loss: 0.0085 - val_loss: 0.0111\n",
            "Epoch 57/100\n",
            "563/563 [==============================] - 1s 1ms/step - loss: 0.0083 - val_loss: 0.0078\n",
            "Epoch 58/100\n",
            "563/563 [==============================] - 1s 2ms/step - loss: 0.0082 - val_loss: 0.0081\n",
            "Epoch 59/100\n",
            "563/563 [==============================] - 1s 1ms/step - loss: 0.0081 - val_loss: 0.0087\n",
            "Epoch 60/100\n",
            "563/563 [==============================] - 1s 1ms/step - loss: 0.0080 - val_loss: 0.0071\n",
            "Epoch 61/100\n",
            "563/563 [==============================] - 1s 1ms/step - loss: 0.0079 - val_loss: 0.0086\n",
            "Epoch 62/100\n",
            "563/563 [==============================] - 1s 1ms/step - loss: 0.0077 - val_loss: 0.0069\n",
            "Epoch 63/100\n",
            "563/563 [==============================] - 1s 1ms/step - loss: 0.0076 - val_loss: 0.0070\n",
            "Epoch 64/100\n",
            "563/563 [==============================] - 1s 1ms/step - loss: 0.0076 - val_loss: 0.0070\n",
            "Epoch 65/100\n",
            "563/563 [==============================] - 1s 1ms/step - loss: 0.0074 - val_loss: 0.0068\n",
            "Epoch 66/100\n",
            "563/563 [==============================] - 1s 1ms/step - loss: 0.0073 - val_loss: 0.0088\n",
            "Epoch 67/100\n",
            "563/563 [==============================] - 1s 1ms/step - loss: 0.0072 - val_loss: 0.0079\n",
            "Epoch 68/100\n",
            "563/563 [==============================] - 1s 1ms/step - loss: 0.0072 - val_loss: 0.0125\n",
            "Epoch 69/100\n",
            "563/563 [==============================] - 1s 1ms/step - loss: 0.0070 - val_loss: 0.0068\n",
            "Epoch 70/100\n",
            "563/563 [==============================] - 1s 1ms/step - loss: 0.0069 - val_loss: 0.0062\n",
            "Epoch 71/100\n",
            "563/563 [==============================] - 1s 1ms/step - loss: 0.0070 - val_loss: 0.0074\n",
            "Epoch 72/100\n",
            "563/563 [==============================] - 1s 1ms/step - loss: 0.0068 - val_loss: 0.0065\n",
            "Epoch 73/100\n",
            "563/563 [==============================] - 1s 1ms/step - loss: 0.0067 - val_loss: 0.0065\n",
            "Epoch 74/100\n",
            "563/563 [==============================] - 1s 1ms/step - loss: 0.0068 - val_loss: 0.0062\n",
            "Epoch 75/100\n",
            "563/563 [==============================] - 1s 1ms/step - loss: 0.0065 - val_loss: 0.0068\n",
            "Epoch 76/100\n",
            "563/563 [==============================] - 1s 1ms/step - loss: 0.0064 - val_loss: 0.0058\n",
            "Epoch 77/100\n",
            "563/563 [==============================] - 1s 1ms/step - loss: 0.0067 - val_loss: 0.0060\n",
            "Epoch 78/100\n",
            "563/563 [==============================] - 1s 1ms/step - loss: 0.0065 - val_loss: 0.0067\n",
            "Epoch 79/100\n",
            "563/563 [==============================] - 1s 1ms/step - loss: 0.0064 - val_loss: 0.0069\n",
            "Epoch 80/100\n",
            "563/563 [==============================] - 1s 1ms/step - loss: 0.0062 - val_loss: 0.0055\n",
            "Epoch 81/100\n",
            "563/563 [==============================] - 1s 1ms/step - loss: 0.0062 - val_loss: 0.0055\n",
            "Epoch 82/100\n",
            "563/563 [==============================] - 1s 1ms/step - loss: 0.0062 - val_loss: 0.0059\n",
            "Epoch 83/100\n",
            "563/563 [==============================] - 1s 1ms/step - loss: 0.0062 - val_loss: 0.0054\n",
            "Epoch 84/100\n",
            "563/563 [==============================] - 1s 1ms/step - loss: 0.0061 - val_loss: 0.0055\n",
            "Epoch 85/100\n",
            "563/563 [==============================] - 1s 1ms/step - loss: 0.0060 - val_loss: 0.0068\n",
            "Epoch 86/100\n",
            "563/563 [==============================] - 1s 1ms/step - loss: 0.0060 - val_loss: 0.0095\n",
            "Epoch 87/100\n",
            "563/563 [==============================] - 1s 1ms/step - loss: 0.0060 - val_loss: 0.0060\n",
            "Epoch 88/100\n",
            "563/563 [==============================] - 1s 1ms/step - loss: 0.0060 - val_loss: 0.0053\n",
            "Epoch 89/100\n",
            "563/563 [==============================] - 1s 1ms/step - loss: 0.0059 - val_loss: 0.0051\n",
            "Epoch 90/100\n",
            "563/563 [==============================] - 1s 1ms/step - loss: 0.0058 - val_loss: 0.0052\n",
            "Epoch 91/100\n",
            "563/563 [==============================] - 1s 1ms/step - loss: 0.0057 - val_loss: 0.0057\n",
            "Epoch 92/100\n",
            "563/563 [==============================] - 1s 1ms/step - loss: 0.0057 - val_loss: 0.0078\n",
            "Epoch 93/100\n",
            "563/563 [==============================] - 1s 1ms/step - loss: 0.0057 - val_loss: 0.0064\n",
            "Epoch 94/100\n",
            "563/563 [==============================] - 1s 1ms/step - loss: 0.0056 - val_loss: 0.0048\n",
            "Epoch 95/100\n",
            "563/563 [==============================] - 1s 1ms/step - loss: 0.0055 - val_loss: 0.0050\n",
            "Epoch 96/100\n",
            "563/563 [==============================] - 1s 1ms/step - loss: 0.0055 - val_loss: 0.0049\n",
            "Epoch 97/100\n",
            "563/563 [==============================] - 1s 1ms/step - loss: 0.0056 - val_loss: 0.0057\n",
            "Epoch 98/100\n",
            "563/563 [==============================] - 1s 1ms/step - loss: 0.0055 - val_loss: 0.0061\n",
            "Epoch 99/100\n",
            "563/563 [==============================] - 1s 1ms/step - loss: 0.0054 - val_loss: 0.0056\n",
            "Epoch 100/100\n",
            "563/563 [==============================] - 1s 1ms/step - loss: 0.0054 - val_loss: 0.0052\n"
          ],
          "name": "stdout"
        },
        {
          "output_type": "execute_result",
          "data": {
            "text/plain": [
              "<matplotlib.collections.PathCollection at 0x7fb2ee68e190>"
            ]
          },
          "metadata": {
            "tags": []
          },
          "execution_count": 19
        },
        {
          "output_type": "display_data",
          "data": {
            "image/png": "[encoded data removed]",
            "text/plain": [
              "<Figure size 432x288 with 1 Axes>"
            ]
          },
          "metadata": {
            "tags": [],
            "needs_background": "light"
          }
        }
      ]
    },
    {
      "cell_type": "markdown",
      "metadata": {
        "id": "E11HQVHb3PZd"
      },
      "source": [
        "출력 노드의 값은 0과 1이 서로 상반된다.\n",
        "하지만 이렇게 카테고리 개수 만큼 출력 노드가 있는 경우, 카테고리를 2개 이상으로 해도 처리가 가능해 진다"
      ]
    },
    {
      "cell_type": "code",
      "metadata": {
        "colab": {
          "base_uri": "https://localhost:8080/",
          "height": 441
        },
        "id": "g4P-ocvJ3U4L",
        "outputId": "dd2a107f-a3f8-42b2-be00-199bf37739df"
      },
      "source": [
        "train_x = np.arange(0, 1, 0.001)\n",
        "\n",
        "class_index = np.zeros_like(train_x, dtype=np.int)\n",
        "class_index[:250] = 0\n",
        "class_index[250:500] = 1\n",
        "class_index[500:750] = 2\n",
        "class_index[750:] = 3\n",
        "\n",
        "\n",
        "plt.scatter(train_x, class_index)\n",
        "plt.show()\n",
        "\n",
        "train_y = np.zeros((1000, 4))\n",
        "train_y[np.arange(1000), class_index] = 1 # one-hot 인코딩\n",
        "\n",
        "print(train_y[245:255])"
      ],
      "execution_count": 20,
      "outputs": [
        {
          "output_type": "display_data",
          "data": {
            "image/png": "[encoded data removed]",
            "text/plain": [
              "<Figure size 432x288 with 1 Axes>"
            ]
          },
          "metadata": {
            "tags": [],
            "needs_background": "light"
          }
        },
        {
          "output_type": "stream",
          "text": [
            "[[1. 0. 0. 0.]\n",
            " [1. 0. 0. 0.]\n",
            " [1. 0. 0. 0.]\n",
            " [1. 0. 0. 0.]\n",
            " [1. 0. 0. 0.]\n",
            " [0. 1. 0. 0.]\n",
            " [0. 1. 0. 0.]\n",
            " [0. 1. 0. 0.]\n",
            " [0. 1. 0. 0.]\n",
            " [0. 1. 0. 0.]]\n"
          ],
          "name": "stdout"
        }
      ]
    },
    {
      "cell_type": "code",
      "metadata": {
        "colab": {
          "base_uri": "https://localhost:8080/",
          "height": 1000
        },
        "id": "0WJt5fmf3YsF",
        "outputId": "3d7a8079-d3b7-475c-ba0d-972472df3cd0"
      },
      "source": [
        "from tensorflow import keras\n",
        "from tensorflow.keras import optimizers\n",
        "from tensorflow.keras.layers import Dense\n",
        "from tensorflow.keras.optimizers import SGD\n",
        "\n",
        "\n",
        "model = keras.Sequential()\n",
        "model.add(Dense(10, activation='relu', input_shape=(1,)))\n",
        "model.add(Dense(10, activation='relu'))\n",
        "model.add(Dense(10, activation='relu'))\n",
        "model.add(Dense(4))\n",
        "\n",
        "model.compile(optimizer=\"SGD\", loss=\"mse\")\n",
        "model.fit(train_x, train_y, epochs=100, verbose=1, batch_size=1, validation_split=0.1)\n",
        "\n",
        "x_ = np.arange(0, 1, 0.01)\n",
        "y_ = model.predict(x_)\n",
        "for i in range(4):\n",
        "  plt.scatter(x_, y_[:,i])\n",
        "  plt.show()"
      ],
      "execution_count": 21,
      "outputs": [
        {
          "output_type": "stream",
          "text": [
            "Epoch 1/100\n",
            "900/900 [==============================] - 1s 1ms/step - loss: 0.1890 - val_loss: 0.2099\n",
            "Epoch 2/100\n",
            "900/900 [==============================] - 1s 1ms/step - loss: 0.1783 - val_loss: 0.1998\n",
            "Epoch 3/100\n",
            "900/900 [==============================] - 1s 1ms/step - loss: 0.1669 - val_loss: 0.1926\n",
            "Epoch 4/100\n",
            "900/900 [==============================] - 1s 1ms/step - loss: 0.1393 - val_loss: 0.1631\n",
            "Epoch 5/100\n",
            "900/900 [==============================] - 1s 1ms/step - loss: 0.1161 - val_loss: 0.1684\n",
            "Epoch 6/100\n",
            "900/900 [==============================] - 1s 1ms/step - loss: 0.1053 - val_loss: 0.1833\n",
            "Epoch 7/100\n",
            "900/900 [==============================] - 1s 1ms/step - loss: 0.0972 - val_loss: 0.1581\n",
            "Epoch 8/100\n",
            "900/900 [==============================] - 1s 1ms/step - loss: 0.0909 - val_loss: 0.1353\n",
            "Epoch 9/100\n",
            "900/900 [==============================] - 1s 1ms/step - loss: 0.0853 - val_loss: 0.1733\n",
            "Epoch 10/100\n",
            "900/900 [==============================] - 1s 1ms/step - loss: 0.0809 - val_loss: 0.1767\n",
            "Epoch 11/100\n",
            "900/900 [==============================] - 1s 1ms/step - loss: 0.0781 - val_loss: 0.1581\n",
            "Epoch 12/100\n",
            "900/900 [==============================] - 1s 1ms/step - loss: 0.0745 - val_loss: 0.1167\n",
            "Epoch 13/100\n",
            "900/900 [==============================] - 1s 1ms/step - loss: 0.0719 - val_loss: 0.1201\n",
            "Epoch 14/100\n",
            "900/900 [==============================] - 1s 1ms/step - loss: 0.0692 - val_loss: 0.1255\n",
            "Epoch 15/100\n",
            "900/900 [==============================] - 1s 1ms/step - loss: 0.0664 - val_loss: 0.1401\n",
            "Epoch 16/100\n",
            "900/900 [==============================] - 1s 1ms/step - loss: 0.0637 - val_loss: 0.0880\n",
            "Epoch 17/100\n",
            "900/900 [==============================] - 1s 1ms/step - loss: 0.0608 - val_loss: 0.0791\n",
            "Epoch 18/100\n",
            "900/900 [==============================] - 1s 1ms/step - loss: 0.0575 - val_loss: 0.0930\n",
            "Epoch 19/100\n",
            "900/900 [==============================] - 1s 1ms/step - loss: 0.0541 - val_loss: 0.0727\n",
            "Epoch 20/100\n",
            "900/900 [==============================] - 1s 1ms/step - loss: 0.0509 - val_loss: 0.0540\n",
            "Epoch 21/100\n",
            "900/900 [==============================] - 1s 1ms/step - loss: 0.0480 - val_loss: 0.0363\n",
            "Epoch 22/100\n",
            "900/900 [==============================] - 1s 1ms/step - loss: 0.0441 - val_loss: 0.0432\n",
            "Epoch 23/100\n",
            "900/900 [==============================] - 1s 1ms/step - loss: 0.0410 - val_loss: 0.0300\n",
            "Epoch 24/100\n",
            "900/900 [==============================] - 1s 1ms/step - loss: 0.0390 - val_loss: 0.0292\n",
            "Epoch 25/100\n",
            "900/900 [==============================] - 1s 1ms/step - loss: 0.0363 - val_loss: 0.0287\n",
            "Epoch 26/100\n",
            "900/900 [==============================] - 1s 1ms/step - loss: 0.0349 - val_loss: 0.0453\n",
            "Epoch 27/100\n",
            "900/900 [==============================] - 1s 1ms/step - loss: 0.0329 - val_loss: 0.0412\n",
            "Epoch 28/100\n",
            "900/900 [==============================] - 1s 1ms/step - loss: 0.0312 - val_loss: 0.0608\n",
            "Epoch 29/100\n",
            "900/900 [==============================] - 1s 1ms/step - loss: 0.0295 - val_loss: 0.0620\n",
            "Epoch 30/100\n",
            "900/900 [==============================] - 1s 1ms/step - loss: 0.0292 - val_loss: 0.0656\n",
            "Epoch 31/100\n",
            "900/900 [==============================] - 1s 1ms/step - loss: 0.0281 - val_loss: 0.0692\n",
            "Epoch 32/100\n",
            "900/900 [==============================] - 1s 1ms/step - loss: 0.0273 - val_loss: 0.0699\n",
            "Epoch 33/100\n",
            "900/900 [==============================] - 1s 1ms/step - loss: 0.0269 - val_loss: 0.1014\n",
            "Epoch 34/100\n",
            "900/900 [==============================] - 1s 1ms/step - loss: 0.0258 - val_loss: 0.0764\n",
            "Epoch 35/100\n",
            "900/900 [==============================] - 1s 1ms/step - loss: 0.0264 - val_loss: 0.0715\n",
            "Epoch 36/100\n",
            "900/900 [==============================] - 1s 1ms/step - loss: 0.0255 - val_loss: 0.0540\n",
            "Epoch 37/100\n",
            "900/900 [==============================] - 1s 1ms/step - loss: 0.0257 - val_loss: 0.1046\n",
            "Epoch 38/100\n",
            "900/900 [==============================] - 1s 1ms/step - loss: 0.0262 - val_loss: 0.0625\n",
            "Epoch 39/100\n",
            "900/900 [==============================] - 1s 1ms/step - loss: 0.0256 - val_loss: 0.0284\n",
            "Epoch 40/100\n",
            "900/900 [==============================] - 1s 1ms/step - loss: 0.0257 - val_loss: 0.0545\n",
            "Epoch 41/100\n",
            "900/900 [==============================] - 1s 1ms/step - loss: 0.0254 - val_loss: 0.1628\n",
            "Epoch 42/100\n",
            "900/900 [==============================] - 1s 1ms/step - loss: 0.0250 - val_loss: 0.1303\n",
            "Epoch 43/100\n",
            "900/900 [==============================] - 1s 1ms/step - loss: 0.0254 - val_loss: 0.1531\n",
            "Epoch 44/100\n",
            "900/900 [==============================] - 1s 1ms/step - loss: 0.0242 - val_loss: 0.0543\n",
            "Epoch 45/100\n",
            "900/900 [==============================] - 1s 1ms/step - loss: 0.0243 - val_loss: 0.0935\n",
            "Epoch 46/100\n",
            "900/900 [==============================] - 1s 1ms/step - loss: 0.0252 - val_loss: 0.1055\n",
            "Epoch 47/100\n",
            "900/900 [==============================] - 1s 1ms/step - loss: 0.0245 - val_loss: 0.0461\n",
            "Epoch 48/100\n",
            "900/900 [==============================] - 1s 1ms/step - loss: 0.0246 - val_loss: 0.1046\n",
            "Epoch 49/100\n",
            "900/900 [==============================] - 1s 1ms/step - loss: 0.0248 - val_loss: 0.0778\n",
            "Epoch 50/100\n",
            "900/900 [==============================] - 1s 1ms/step - loss: 0.0240 - val_loss: 0.1546\n",
            "Epoch 51/100\n",
            "900/900 [==============================] - 1s 1ms/step - loss: 0.0237 - val_loss: 0.0838\n",
            "Epoch 52/100\n",
            "900/900 [==============================] - 1s 1ms/step - loss: 0.0241 - val_loss: 0.0567\n",
            "Epoch 53/100\n",
            "900/900 [==============================] - 1s 1ms/step - loss: 0.0237 - val_loss: 0.0845\n",
            "Epoch 54/100\n",
            "900/900 [==============================] - 1s 1ms/step - loss: 0.0234 - val_loss: 0.0706\n",
            "Epoch 55/100\n",
            "900/900 [==============================] - 1s 1ms/step - loss: 0.0242 - val_loss: 0.0480\n",
            "Epoch 56/100\n",
            "900/900 [==============================] - 1s 1ms/step - loss: 0.0241 - val_loss: 0.0818\n",
            "Epoch 57/100\n",
            "900/900 [==============================] - 1s 1ms/step - loss: 0.0240 - val_loss: 0.1446\n",
            "Epoch 58/100\n",
            "900/900 [==============================] - 1s 1ms/step - loss: 0.0245 - val_loss: 0.1586\n",
            "Epoch 59/100\n",
            "900/900 [==============================] - 1s 1ms/step - loss: 0.0236 - val_loss: 0.0803\n",
            "Epoch 60/100\n",
            "900/900 [==============================] - 1s 1ms/step - loss: 0.0227 - val_loss: 0.0997\n",
            "Epoch 61/100\n",
            "900/900 [==============================] - 1s 1ms/step - loss: 0.0228 - val_loss: 0.0385\n",
            "Epoch 62/100\n",
            "900/900 [==============================] - 1s 1ms/step - loss: 0.0232 - val_loss: 0.0683\n",
            "Epoch 63/100\n",
            "900/900 [==============================] - 1s 1ms/step - loss: 0.0233 - val_loss: 0.1444\n",
            "Epoch 64/100\n",
            "900/900 [==============================] - 1s 1ms/step - loss: 0.0230 - val_loss: 0.1401\n",
            "Epoch 65/100\n",
            "900/900 [==============================] - 1s 1ms/step - loss: 0.0231 - val_loss: 0.1231\n",
            "Epoch 66/100\n",
            "900/900 [==============================] - 1s 1ms/step - loss: 0.0236 - val_loss: 0.1538\n",
            "Epoch 67/100\n",
            "900/900 [==============================] - 1s 1ms/step - loss: 0.0234 - val_loss: 0.0969\n",
            "Epoch 68/100\n",
            "900/900 [==============================] - 1s 1ms/step - loss: 0.0239 - val_loss: 0.0580\n",
            "Epoch 69/100\n",
            "900/900 [==============================] - 1s 1ms/step - loss: 0.0227 - val_loss: 0.1022\n",
            "Epoch 70/100\n",
            "900/900 [==============================] - 1s 1ms/step - loss: 0.0226 - val_loss: 0.0476\n",
            "Epoch 71/100\n",
            "900/900 [==============================] - 1s 1ms/step - loss: 0.0213 - val_loss: 0.1282\n",
            "Epoch 72/100\n",
            "900/900 [==============================] - 1s 1ms/step - loss: 0.0228 - val_loss: 0.0822\n",
            "Epoch 73/100\n",
            "900/900 [==============================] - 1s 1ms/step - loss: 0.0229 - val_loss: 0.0906\n",
            "Epoch 74/100\n",
            "900/900 [==============================] - 1s 1ms/step - loss: 0.0218 - val_loss: 0.0578\n",
            "Epoch 75/100\n",
            "900/900 [==============================] - 1s 1ms/step - loss: 0.0229 - val_loss: 0.1562\n",
            "Epoch 76/100\n",
            "900/900 [==============================] - 1s 1ms/step - loss: 0.0226 - val_loss: 0.1101\n",
            "Epoch 77/100\n",
            "900/900 [==============================] - 1s 1ms/step - loss: 0.0221 - val_loss: 0.0359\n",
            "Epoch 78/100\n",
            "900/900 [==============================] - 1s 1ms/step - loss: 0.0224 - val_loss: 0.1547\n",
            "Epoch 79/100\n",
            "900/900 [==============================] - 1s 1ms/step - loss: 0.0220 - val_loss: 0.0721\n",
            "Epoch 80/100\n",
            "900/900 [==============================] - 1s 1ms/step - loss: 0.0218 - val_loss: 0.1507\n",
            "Epoch 81/100\n",
            "900/900 [==============================] - 1s 1ms/step - loss: 0.0218 - val_loss: 0.0870\n",
            "Epoch 82/100\n",
            "900/900 [==============================] - 1s 1ms/step - loss: 0.0222 - val_loss: 0.0752\n",
            "Epoch 83/100\n",
            "900/900 [==============================] - 1s 1ms/step - loss: 0.0214 - val_loss: 0.0814\n",
            "Epoch 84/100\n",
            "900/900 [==============================] - 1s 1ms/step - loss: 0.0216 - val_loss: 0.0847\n",
            "Epoch 85/100\n",
            "900/900 [==============================] - 1s 1ms/step - loss: 0.0216 - val_loss: 0.1219\n",
            "Epoch 86/100\n",
            "900/900 [==============================] - 1s 1ms/step - loss: 0.0217 - val_loss: 0.0327\n",
            "Epoch 87/100\n",
            "900/900 [==============================] - 1s 1ms/step - loss: 0.0217 - val_loss: 0.0825\n",
            "Epoch 88/100\n",
            "900/900 [==============================] - 1s 1ms/step - loss: 0.0214 - val_loss: 0.1089\n",
            "Epoch 89/100\n",
            "900/900 [==============================] - 1s 1ms/step - loss: 0.0211 - val_loss: 0.0819\n",
            "Epoch 90/100\n",
            "900/900 [==============================] - 1s 1ms/step - loss: 0.0215 - val_loss: 0.0547\n",
            "Epoch 91/100\n",
            "900/900 [==============================] - 1s 1ms/step - loss: 0.0217 - val_loss: 0.1920\n",
            "Epoch 92/100\n",
            "900/900 [==============================] - 1s 1ms/step - loss: 0.0213 - val_loss: 0.0957\n",
            "Epoch 93/100\n",
            "900/900 [==============================] - 1s 1ms/step - loss: 0.0214 - val_loss: 0.1230\n",
            "Epoch 94/100\n",
            "900/900 [==============================] - 1s 1ms/step - loss: 0.0212 - val_loss: 0.0866\n",
            "Epoch 95/100\n",
            "900/900 [==============================] - 1s 1ms/step - loss: 0.0212 - val_loss: 0.1799\n",
            "Epoch 96/100\n",
            "900/900 [==============================] - 1s 1ms/step - loss: 0.0214 - val_loss: 0.0972\n",
            "Epoch 97/100\n",
            "900/900 [==============================] - 1s 1ms/step - loss: 0.0211 - val_loss: 0.1055\n",
            "Epoch 98/100\n",
            "900/900 [==============================] - 1s 1ms/step - loss: 0.0195 - val_loss: 0.1008\n",
            "Epoch 99/100\n",
            "900/900 [==============================] - 1s 1ms/step - loss: 0.0209 - val_loss: 0.1102\n",
            "Epoch 100/100\n",
            "900/900 [==============================] - 1s 1ms/step - loss: 0.0206 - val_loss: 0.0642\n"
          ],
          "name": "stdout"
        },
        {
          "output_type": "display_data",
          "data": {
            "image/png": "[encoded data removed]",
            "text/plain": [
              "<Figure size 432x288 with 1 Axes>"
            ]
          },
          "metadata": {
            "tags": [],
            "needs_background": "light"
          }
        },
        {
          "output_type": "display_data",
          "data": {
            "image/png": "[encoded data removed]",
            "text/plain": [
              "<Figure size 432x288 with 1 Axes>"
            ]
          },
          "metadata": {
            "tags": [],
            "needs_background": "light"
          }
        },
        {
          "output_type": "display_data",
          "data": {
            "image/png": "[encoded data removed]",
            "text/plain": [
              "<Figure size 432x288 with 1 Axes>"
            ]
          },
          "metadata": {
            "tags": [],
            "needs_background": "light"
          }
        },
        {
          "output_type": "display_data",
          "data": {
            "image/png": "[encoded data removed]",
            "text/plain": [
              "<Figure size 432x288 with 1 Axes>"
            ]
          },
          "metadata": {
            "tags": [],
            "needs_background": "light"
          }
        }
      ]
    }
  ]
}