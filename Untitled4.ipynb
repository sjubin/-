{
  "nbformat": 4,
  "nbformat_minor": 0,
  "metadata": {
    "colab": {
      "name": "Untitled4.ipynb",
      "provenance": [],
      "authorship_tag": "ABX9TyP8SLIk7YyPsF439IKQ8kNN",
      "include_colab_link": true
    },
    "kernelspec": {
      "name": "python3",
      "display_name": "Python 3"
    }
  },
  "cells": [
    {
      "cell_type": "markdown",
      "metadata": {
        "id": "view-in-github",
        "colab_type": "text"
      },
      "source": [
        "<a href=\"https://colab.research.google.com/github/sjubin/-/blob/master/Untitled4.ipynb\" target=\"_parent\"><img src=\"https://colab.research.google.com/assets/colab-badge.svg\" alt=\"Open In Colab\"/></a>"
      ]
    },
    {
      "cell_type": "code",
      "metadata": {
        "colab": {
          "base_uri": "https://localhost:8080/"
        },
        "id": "j8ggacixsU6M",
        "outputId": "383d6697-54eb-4ee5-cfdc-fceabc085ccb"
      },
      "source": [
        "import tensorflow as tf \r\n",
        "from tensorflow import keras\r\n",
        "from google.colab import files\r\n",
        "\r\n",
        "from google.colab import drive\r\n",
        "drive.mount('/content/drive')\r\n",
        "\r\n",
        "import numpy as np\r\n",
        "from scipy.io import loadmat\r\n",
        "import matplotlib.pyplot as plt\r\n",
        "\r\n",
        "from google.colab import drive\r\n",
        "drive.mount('/content/drive')\r\n",
        "\r\n",
        "import cv2\r\n"
      ],
      "execution_count": 5,
      "outputs": [
        {
          "output_type": "stream",
          "text": [
            "Drive already mounted at /content/drive; to attempt to forcibly remount, call drive.mount(\"/content/drive\", force_remount=True).\n",
            "Drive already mounted at /content/drive; to attempt to forcibly remount, call drive.mount(\"/content/drive\", force_remount=True).\n"
          ],
          "name": "stdout"
        }
      ]
    },
    {
      "cell_type": "code",
      "metadata": {
        "colab": {
          "base_uri": "https://localhost:8080/"
        },
        "id": "5QS4KeE6wR9f",
        "outputId": "2bdae49d-9878-41a3-e976-c4b3b66a5f45"
      },
      "source": [
        "mat = loadmat('/content/mnist-with-awgn.mat')\r\n",
        "mat.keys()"
      ],
      "execution_count": 7,
      "outputs": [
        {
          "output_type": "execute_result",
          "data": {
            "text/plain": [
              "dict_keys(['__header__', '__version__', '__globals__', 'train_x', 'test_x', 'train_y', 'test_y'])"
            ]
          },
          "metadata": {
            "tags": []
          },
          "execution_count": 7
        }
      ]
    },
    {
      "cell_type": "code",
      "metadata": {
        "colab": {
          "base_uri": "https://localhost:8080/"
        },
        "id": "hBYM2cVAbF22",
        "outputId": "5b43cf58-d7d4-4bd8-c07c-1fce182f7160"
      },
      "source": [
        "mat"
      ],
      "execution_count": 8,
      "outputs": [
        {
          "output_type": "execute_result",
          "data": {
            "text/plain": [
              "{'__globals__': [],\n",
              " '__header__': b'MATLAB 5.0 MAT-file, Platform: MACI64, Created on: Sun Nov 16 16:53:32 2014',\n",
              " '__version__': '1.0',\n",
              " 'test_x': array([[129,   0, 129, ...,   0,  52,   0],\n",
              "        [  0,  65, 171, ..., 126,   0,   0],\n",
              "        [  0,  49, 176, ...,   0,  71,   0],\n",
              "        ...,\n",
              "        [ 47,  54,   0, ...,  58,   0,   0],\n",
              "        [  0,   4,   0, ...,   8,   7,  89],\n",
              "        [  0,  61, 130, ...,   0,   0,  49]], dtype=uint8),\n",
              " 'test_y': array([[0, 0, 1, ..., 0, 0, 0],\n",
              "        [0, 1, 0, ..., 0, 0, 0],\n",
              "        [0, 0, 0, ..., 0, 0, 1],\n",
              "        ...,\n",
              "        [1, 0, 0, ..., 0, 0, 0],\n",
              "        [0, 0, 0, ..., 0, 0, 1],\n",
              "        [0, 0, 0, ..., 0, 0, 0]], dtype=uint8),\n",
              " 'train_x': array([[  0,   0,  11, ...,  59,   2,  91],\n",
              "        [  0,  41,   0, ...,   0, 106,   0],\n",
              "        [  0,  23,  71, ...,  36,   0,  67],\n",
              "        ...,\n",
              "        [ 38,  36,   0, ...,   0, 119,   0],\n",
              "        [ 82,   4,   0, ...,   0,   0,  30],\n",
              "        [  0,   0, 193, ...,  15,   0,  79]], dtype=uint8),\n",
              " 'train_y': array([[0, 0, 0, ..., 0, 0, 0],\n",
              "        [0, 0, 0, ..., 0, 0, 0],\n",
              "        [0, 0, 0, ..., 0, 1, 0],\n",
              "        ...,\n",
              "        [1, 0, 0, ..., 0, 0, 0],\n",
              "        [0, 0, 0, ..., 0, 1, 0],\n",
              "        [0, 0, 1, ..., 0, 0, 0]], dtype=uint8)}"
            ]
          },
          "metadata": {
            "tags": []
          },
          "execution_count": 8
        }
      ]
    },
    {
      "cell_type": "code",
      "metadata": {
        "colab": {
          "base_uri": "https://localhost:8080/"
        },
        "id": "vDbCqnKubJPs",
        "outputId": "1f2277d3-a7d3-4b1a-cb90-c1bef00cf469"
      },
      "source": [
        "train_x = mat['train_x']\r\n",
        "train_y = mat['train_y']\r\n",
        "test_x = mat['test_x']\r\n",
        "test_y = mat['test_y']\r\n",
        "test_x, test_y.shape"
      ],
      "execution_count": 9,
      "outputs": [
        {
          "output_type": "execute_result",
          "data": {
            "text/plain": [
              "(array([[129,   0, 129, ...,   0,  52,   0],\n",
              "        [  0,  65, 171, ..., 126,   0,   0],\n",
              "        [  0,  49, 176, ...,   0,  71,   0],\n",
              "        ...,\n",
              "        [ 47,  54,   0, ...,  58,   0,   0],\n",
              "        [  0,   4,   0, ...,   8,   7,  89],\n",
              "        [  0,  61, 130, ...,   0,   0,  49]], dtype=uint8), (10000, 10))"
            ]
          },
          "metadata": {
            "tags": []
          },
          "execution_count": 9
        }
      ]
    },
    {
      "cell_type": "code",
      "metadata": {
        "colab": {
          "base_uri": "https://localhost:8080/",
          "height": 297
        },
        "id": "IMVm36DHcEBw",
        "outputId": "40d25fcb-c027-4afc-bd45-fb271af6d744"
      },
      "source": [
        "plt.xlabel(train_y[0])\r\n",
        "plt.imshow(train_x[0],cmap=plt.cm.binary)\r\n",
        "\r\n"
      ],
      "execution_count": 23,
      "outputs": [
        {
          "output_type": "execute_result",
          "data": {
            "text/plain": [
              "<matplotlib.image.AxesImage at 0x7f7384b595f8>"
            ]
          },
          "metadata": {
            "tags": []
          },
          "execution_count": 23
        },
        {
          "output_type": "display_data",
          "data": {
            "image/png": "[encoded data removed]",
            "text/plain": [
              "<Figure size 432x288 with 1 Axes>"
            ]
          },
          "metadata": {
            "tags": [],
            "needs_background": "light"
          }
        }
      ]
    },
    {
      "cell_type": "code",
      "metadata": {
        "id": "3iYlG5Rcd2ND"
      },
      "source": [
        ""
      ],
      "execution_count": null,
      "outputs": []
    },
    {
      "cell_type": "code",
      "metadata": {
        "colab": {
          "base_uri": "https://localhost:8080/",
          "height": 439
        },
        "id": "4GTGJHEKdGG5",
        "outputId": "6b093b0a-4570-40dd-ceb9-3712ff41223c"
      },
      "source": [
        "train_x = train_x.reshape(60000,28,28)\r\n",
        "test_x = test_x.reshape(10000, 28, 28)\r\n",
        "train_y = np.argmax(train_y, axis = 1).reshape(60000,)\r\n",
        "test_y = np.argmax(test_y, axis = 1).reshape(10000,)\r\n",
        "train_x.shape, train_y.shape"
      ],
      "execution_count": 46,
      "outputs": [
        {
          "output_type": "error",
          "ename": "AxisError",
          "evalue": "ignored",
          "traceback": [
            "\u001b[0;31m---------------------------------------------------------------------------\u001b[0m",
            "\u001b[0;31mAxisError\u001b[0m                                 Traceback (most recent call last)",
            "\u001b[0;32m<ipython-input-46-d843e13aee46>\u001b[0m in \u001b[0;36m<module>\u001b[0;34m()\u001b[0m\n\u001b[1;32m      1\u001b[0m \u001b[0mtrain_x\u001b[0m \u001b[0;34m=\u001b[0m \u001b[0mtrain_x\u001b[0m\u001b[0;34m.\u001b[0m\u001b[0mreshape\u001b[0m\u001b[0;34m(\u001b[0m\u001b[0;36m60000\u001b[0m\u001b[0;34m,\u001b[0m\u001b[0;36m28\u001b[0m\u001b[0;34m,\u001b[0m\u001b[0;36m28\u001b[0m\u001b[0;34m)\u001b[0m\u001b[0;34m\u001b[0m\u001b[0;34m\u001b[0m\u001b[0m\n\u001b[1;32m      2\u001b[0m \u001b[0mtest_x\u001b[0m \u001b[0;34m=\u001b[0m \u001b[0mtest_x\u001b[0m\u001b[0;34m.\u001b[0m\u001b[0mreshape\u001b[0m\u001b[0;34m(\u001b[0m\u001b[0;36m10000\u001b[0m\u001b[0;34m,\u001b[0m \u001b[0;36m28\u001b[0m\u001b[0;34m,\u001b[0m \u001b[0;36m28\u001b[0m\u001b[0;34m)\u001b[0m\u001b[0;34m\u001b[0m\u001b[0;34m\u001b[0m\u001b[0m\n\u001b[0;32m----> 3\u001b[0;31m \u001b[0mtrain_y\u001b[0m \u001b[0;34m=\u001b[0m \u001b[0mnp\u001b[0m\u001b[0;34m.\u001b[0m\u001b[0margmax\u001b[0m\u001b[0;34m(\u001b[0m\u001b[0mtrain_y\u001b[0m\u001b[0;34m,\u001b[0m \u001b[0maxis\u001b[0m \u001b[0;34m=\u001b[0m \u001b[0;36m1\u001b[0m\u001b[0;34m)\u001b[0m\u001b[0;34m.\u001b[0m\u001b[0mreshape\u001b[0m\u001b[0;34m(\u001b[0m\u001b[0;36m60000\u001b[0m\u001b[0;34m,\u001b[0m\u001b[0;34m)\u001b[0m\u001b[0;34m\u001b[0m\u001b[0;34m\u001b[0m\u001b[0m\n\u001b[0m\u001b[1;32m      4\u001b[0m \u001b[0mtest_y\u001b[0m \u001b[0;34m=\u001b[0m \u001b[0mnp\u001b[0m\u001b[0;34m.\u001b[0m\u001b[0margmax\u001b[0m\u001b[0;34m(\u001b[0m\u001b[0mtest_y\u001b[0m\u001b[0;34m,\u001b[0m \u001b[0maxis\u001b[0m \u001b[0;34m=\u001b[0m \u001b[0;36m1\u001b[0m\u001b[0;34m)\u001b[0m\u001b[0;34m.\u001b[0m\u001b[0mreshape\u001b[0m\u001b[0;34m(\u001b[0m\u001b[0;36m10000\u001b[0m\u001b[0;34m,\u001b[0m\u001b[0;34m)\u001b[0m\u001b[0;34m\u001b[0m\u001b[0;34m\u001b[0m\u001b[0m\n\u001b[1;32m      5\u001b[0m \u001b[0mtrain_x\u001b[0m\u001b[0;34m.\u001b[0m\u001b[0mshape\u001b[0m\u001b[0;34m,\u001b[0m \u001b[0mtrain_y\u001b[0m\u001b[0;34m.\u001b[0m\u001b[0mshape\u001b[0m\u001b[0;34m\u001b[0m\u001b[0;34m\u001b[0m\u001b[0m\n",
            "\u001b[0;32m<__array_function__ internals>\u001b[0m in \u001b[0;36margmax\u001b[0;34m(*args, **kwargs)\u001b[0m\n",
            "\u001b[0;32m/usr/local/lib/python3.6/dist-packages/numpy/core/fromnumeric.py\u001b[0m in \u001b[0;36margmax\u001b[0;34m(a, axis, out)\u001b[0m\n\u001b[1;32m   1186\u001b[0m \u001b[0;34m\u001b[0m\u001b[0m\n\u001b[1;32m   1187\u001b[0m     \"\"\"\n\u001b[0;32m-> 1188\u001b[0;31m     \u001b[0;32mreturn\u001b[0m \u001b[0m_wrapfunc\u001b[0m\u001b[0;34m(\u001b[0m\u001b[0ma\u001b[0m\u001b[0;34m,\u001b[0m \u001b[0;34m'argmax'\u001b[0m\u001b[0;34m,\u001b[0m \u001b[0maxis\u001b[0m\u001b[0;34m=\u001b[0m\u001b[0maxis\u001b[0m\u001b[0;34m,\u001b[0m \u001b[0mout\u001b[0m\u001b[0;34m=\u001b[0m\u001b[0mout\u001b[0m\u001b[0;34m)\u001b[0m\u001b[0;34m\u001b[0m\u001b[0;34m\u001b[0m\u001b[0m\n\u001b[0m\u001b[1;32m   1189\u001b[0m \u001b[0;34m\u001b[0m\u001b[0m\n\u001b[1;32m   1190\u001b[0m \u001b[0;34m\u001b[0m\u001b[0m\n",
            "\u001b[0;32m/usr/local/lib/python3.6/dist-packages/numpy/core/fromnumeric.py\u001b[0m in \u001b[0;36m_wrapfunc\u001b[0;34m(obj, method, *args, **kwds)\u001b[0m\n\u001b[1;32m     56\u001b[0m \u001b[0;34m\u001b[0m\u001b[0m\n\u001b[1;32m     57\u001b[0m     \u001b[0;32mtry\u001b[0m\u001b[0;34m:\u001b[0m\u001b[0;34m\u001b[0m\u001b[0;34m\u001b[0m\u001b[0m\n\u001b[0;32m---> 58\u001b[0;31m         \u001b[0;32mreturn\u001b[0m \u001b[0mbound\u001b[0m\u001b[0;34m(\u001b[0m\u001b[0;34m*\u001b[0m\u001b[0margs\u001b[0m\u001b[0;34m,\u001b[0m \u001b[0;34m**\u001b[0m\u001b[0mkwds\u001b[0m\u001b[0;34m)\u001b[0m\u001b[0;34m\u001b[0m\u001b[0;34m\u001b[0m\u001b[0m\n\u001b[0m\u001b[1;32m     59\u001b[0m     \u001b[0;32mexcept\u001b[0m \u001b[0mTypeError\u001b[0m\u001b[0;34m:\u001b[0m\u001b[0;34m\u001b[0m\u001b[0;34m\u001b[0m\u001b[0m\n\u001b[1;32m     60\u001b[0m         \u001b[0;31m# A TypeError occurs if the object does have such a method in its\u001b[0m\u001b[0;34m\u001b[0m\u001b[0;34m\u001b[0m\u001b[0;34m\u001b[0m\u001b[0m\n",
            "\u001b[0;31mAxisError\u001b[0m: axis 1 is out of bounds for array of dimension 1"
          ]
        }
      ]
    },
    {
      "cell_type": "code",
      "metadata": {
        "id": "TXMdxRjBeFJG"
      },
      "source": [
        "sequential_model = keras.Sequential()\r\n",
        "\r\n",
        "sequential_model.add(keras.layers.Flatten(input_shape=(28, 28)))\r\n",
        "sequential_model.add(keras.layers.Dense(128, activation='relu'))\r\n",
        "sequential_model.add(keras.layers.Dense(10, activation='softmax'))"
      ],
      "execution_count": 47,
      "outputs": []
    },
    {
      "cell_type": "code",
      "metadata": {
        "colab": {
          "base_uri": "https://localhost:8080/"
        },
        "id": "Lss__MK9ewpU",
        "outputId": "6b2a2d0c-8308-4410-b901-39be71e6d316"
      },
      "source": [
        "sequential_model.summary()"
      ],
      "execution_count": 29,
      "outputs": [
        {
          "output_type": "stream",
          "text": [
            "Model: \"sequential_3\"\n",
            "_________________________________________________________________\n",
            "Layer (type)                 Output Shape              Param #   \n",
            "=================================================================\n",
            "flatten_3 (Flatten)          (None, 784)               0         \n",
            "_________________________________________________________________\n",
            "dense_6 (Dense)              (None, 128)               100480    \n",
            "_________________________________________________________________\n",
            "dense_7 (Dense)              (None, 10)                1290      \n",
            "=================================================================\n",
            "Total params: 101,770\n",
            "Trainable params: 101,770\n",
            "Non-trainable params: 0\n",
            "_________________________________________________________________\n"
          ],
          "name": "stdout"
        }
      ]
    },
    {
      "cell_type": "code",
      "metadata": {
        "colab": {
          "base_uri": "https://localhost:8080/",
          "height": 287
        },
        "id": "1UTAWnohgMtj",
        "outputId": "4a69dc32-5b22-42f8-eb6f-517a039779a3"
      },
      "source": [
        "keras.utils.plot_model(sequential_model, show_shapes=True, dpi=64)"
      ],
      "execution_count": 30,
      "outputs": [
        {
          "output_type": "execute_result",
          "data": {
            "image/png": "[encoded data removed]",
            "text/plain": [
              "<IPython.core.display.Image object>"
            ]
          },
          "metadata": {
            "tags": []
          },
          "execution_count": 30
        }
      ]
    },
    {
      "cell_type": "code",
      "metadata": {
        "colab": {
          "base_uri": "https://localhost:8080/"
        },
        "id": "ZXm4ISCXgTYg",
        "outputId": "0e5dab33-aaa1-4e63-96cc-114b9d53b58f"
      },
      "source": [
        "train_x"
      ],
      "execution_count": 38,
      "outputs": [
        {
          "output_type": "execute_result",
          "data": {
            "text/plain": [
              "array([[[  0,   0,  11, ...,  73, 107,   0],\n",
              "        [  0,  49,   0, ..., 145,  51,   0],\n",
              "        [ 32,   0,   0, ...,  68,  80,   0],\n",
              "        ...,\n",
              "        [  0,   0,  25, ...,   0,   0,   0],\n",
              "        [  0,   0,   0, ...,  69,   9, 233],\n",
              "        [ 35,   0,  33, ...,  59,   2,  91]],\n",
              "\n",
              "       [[  0,  41,   0, ...,  13,   0,  83],\n",
              "        [  0,  87,   0, ...,   0,  69,  60],\n",
              "        [ 65,   0, 131, ...,  25,  57,   0],\n",
              "        ...,\n",
              "        [ 34,   0, 112, ...,   0,   0, 106],\n",
              "        [  3,  64, 105, ..., 173,  68,   3],\n",
              "        [ 46,  58,   0, ...,   0, 106,   0]],\n",
              "\n",
              "       [[  0,  23,  71, ...,   0,  32,  78],\n",
              "        [ 13,   0, 127, ...,  78,   0, 112],\n",
              "        [ 28,   0,   7, ...,   0, 211,   0],\n",
              "        ...,\n",
              "        [  0,  41, 106, ...,  76,   0,   0],\n",
              "        [ 87, 149,  84, ...,   0,   0,  32],\n",
              "        [109,   0, 192, ...,  36,   0,  67]],\n",
              "\n",
              "       ...,\n",
              "\n",
              "       [[ 38,  36,   0, ...,   0,   0,   0],\n",
              "        [  0,   0,  59, ...,  38,  80, 199],\n",
              "        [  0,   0,   0, ...,  39,   0,   0],\n",
              "        ...,\n",
              "        [  0,  11,   3, ...,   0,   0,   0],\n",
              "        [  0,   0,   0, ...,   0,  91,   0],\n",
              "        [  0, 203,   0, ...,   0, 119,   0]],\n",
              "\n",
              "       [[ 82,   4,   0, ...,   5,  23, 174],\n",
              "        [  0,  15,   0, ...,  86,   0,   0],\n",
              "        [ 45,   0,  62, ...,   0,   0,  82],\n",
              "        ...,\n",
              "        [  0,   0,  55, ...,   0,  12,   0],\n",
              "        [  0,   0,   0, ..., 141,   0,  56],\n",
              "        [111,  47,   0, ...,   0,   0,  30]],\n",
              "\n",
              "       [[  0,   0, 193, ...,   0,   0,   0],\n",
              "        [ 67,   0,   0, ...,  66,  39,   0],\n",
              "        [ 64,   0,   0, ...,  85,   0,   0],\n",
              "        ...,\n",
              "        [  3,   0,   0, ...,   0, 109,   0],\n",
              "        [  0,   0,  44, ...,   0,   0, 173],\n",
              "        [  0,  87,  10, ...,  15,   0,  79]]], dtype=uint8)"
            ]
          },
          "metadata": {
            "tags": []
          },
          "execution_count": 38
        }
      ]
    },
    {
      "cell_type": "code",
      "metadata": {
        "id": "wTlxDcl1hGRe"
      },
      "source": [
        "sequential_model.compile(optimizer='adam', loss='sparse_categorical_crossentropy', metrics=['accuracy'])"
      ],
      "execution_count": 49,
      "outputs": []
    },
    {
      "cell_type": "code",
      "metadata": {
        "colab": {
          "base_uri": "https://localhost:8080/"
        },
        "id": "iFa1yquPhSAS",
        "outputId": "06cb2c4c-9964-48ba-9887-7cecde3d1ce5"
      },
      "source": [
        "sequential_model.fit(train_x, train_y, epochs=10)"
      ],
      "execution_count": 50,
      "outputs": [
        {
          "output_type": "stream",
          "text": [
            "Epoch 1/10\n",
            "1875/1875 [==============================] - 5s 2ms/step - loss: 10.1658 - accuracy: 0.4416\n",
            "Epoch 2/10\n",
            "1875/1875 [==============================] - 5s 2ms/step - loss: 0.8393 - accuracy: 0.7348\n",
            "Epoch 3/10\n",
            "1875/1875 [==============================] - 5s 3ms/step - loss: 0.5638 - accuracy: 0.8358\n",
            "Epoch 4/10\n",
            "1875/1875 [==============================] - 5s 2ms/step - loss: 0.4547 - accuracy: 0.8715\n",
            "Epoch 5/10\n",
            "1875/1875 [==============================] - 4s 2ms/step - loss: 0.4212 - accuracy: 0.8813\n",
            "Epoch 6/10\n",
            "1875/1875 [==============================] - 5s 2ms/step - loss: 0.4061 - accuracy: 0.8877\n",
            "Epoch 7/10\n",
            "1875/1875 [==============================] - 5s 3ms/step - loss: 0.3818 - accuracy: 0.8931\n",
            "Epoch 8/10\n",
            "1875/1875 [==============================] - 5s 2ms/step - loss: 0.3832 - accuracy: 0.8901\n",
            "Epoch 9/10\n",
            "1875/1875 [==============================] - 5s 2ms/step - loss: 0.3761 - accuracy: 0.8956\n",
            "Epoch 10/10\n",
            "1875/1875 [==============================] - 5s 3ms/step - loss: 0.3721 - accuracy: 0.8968\n"
          ],
          "name": "stdout"
        },
        {
          "output_type": "execute_result",
          "data": {
            "text/plain": [
              "<tensorflow.python.keras.callbacks.History at 0x7f7386b0fd68>"
            ]
          },
          "metadata": {
            "tags": []
          },
          "execution_count": 50
        }
      ]
    },
    {
      "cell_type": "code",
      "metadata": {
        "colab": {
          "base_uri": "https://localhost:8080/"
        },
        "id": "YwWtDGO-iKtW",
        "outputId": "2447745c-d81c-472d-f867-e610b6223a3e"
      },
      "source": [
        "test_loss, test_acc = sequential_model.evaluate(test_x,  test_y)\r\n",
        "print('test loss : {0:0.4f}\\ttest acc : {1:0.4f}'.format(test_loss, test_acc))"
      ],
      "execution_count": 52,
      "outputs": [
        {
          "output_type": "stream",
          "text": [
            "313/313 [==============================] - 1s 2ms/step - loss: 0.5291 - accuracy: 0.8671\n",
            "test loss : 0.5291\ttest acc : 0.8671\n"
          ],
          "name": "stdout"
        }
      ]
    },
    {
      "cell_type": "code",
      "metadata": {
        "colab": {
          "base_uri": "https://localhost:8080/",
          "height": 297
        },
        "id": "a2U-rzTNiWOQ",
        "outputId": "2c53bef6-0a52-4275-a4e1-da8fbad30a67"
      },
      "source": [
        "plt.xlabel(test_y[10])\r\n",
        "plt.imshow(test_x[10],cmap=plt.cm.binary)"
      ],
      "execution_count": 67,
      "outputs": [
        {
          "output_type": "execute_result",
          "data": {
            "text/plain": [
              "<matplotlib.image.AxesImage at 0x7f737b2217f0>"
            ]
          },
          "metadata": {
            "tags": []
          },
          "execution_count": 67
        },
        {
          "output_type": "display_data",
          "data": {
            "image/png": "[encoded data removed]",
            "text/plain": [
              "<Figure size 432x288 with 1 Axes>"
            ]
          },
          "metadata": {
            "tags": [],
            "needs_background": "light"
          }
        }
      ]
    },
    {
      "cell_type": "code",
      "metadata": {
        "id": "FKItaQQLiiyZ"
      },
      "source": [
        "preds = sequential_model.predict(test_x)"
      ],
      "execution_count": 68,
      "outputs": []
    },
    {
      "cell_type": "code",
      "metadata": {
        "colab": {
          "base_uri": "https://localhost:8080/"
        },
        "id": "wrX6Nue8inIf",
        "outputId": "c7576e84-fcc9-4d56-9fa0-49f3d894cf55"
      },
      "source": [
        "np.argmax(preds[10])"
      ],
      "execution_count": 70,
      "outputs": [
        {
          "output_type": "execute_result",
          "data": {
            "text/plain": [
              "4"
            ]
          },
          "metadata": {
            "tags": []
          },
          "execution_count": 70
        }
      ]
    },
    {
      "cell_type": "code",
      "metadata": {
        "id": "SL-Tov0aiq02"
      },
      "source": [
        "onehot_train_y = keras.utils.to_categorical(train_y)\r\n",
        "onehot_test_y = keras.utils.to_categorical(test_y)"
      ],
      "execution_count": 71,
      "outputs": []
    },
    {
      "cell_type": "code",
      "metadata": {
        "colab": {
          "base_uri": "https://localhost:8080/"
        },
        "id": "GTP5EbQxk4EB",
        "outputId": "94806c7d-21e1-43b0-f32d-82c1c0c3d291"
      },
      "source": [
        "train_y[1], onehot_train_y[1]"
      ],
      "execution_count": 72,
      "outputs": [
        {
          "output_type": "execute_result",
          "data": {
            "text/plain": [
              "(6, array([0., 0., 0., 0., 0., 0., 1., 0., 0., 0.], dtype=float32))"
            ]
          },
          "metadata": {
            "tags": []
          },
          "execution_count": 72
        }
      ]
    },
    {
      "cell_type": "code",
      "metadata": {
        "id": "FQGNg7cuk8mN"
      },
      "source": [
        "inputs = keras.layers.Input(shape=(28, 28))\r\n",
        "flatten = keras.layers.Flatten(input_shape=(28, 28)) (inputs)\r\n",
        "dense = keras.layers.Dense(128, activation='relu') (flatten)\r\n",
        "output = keras.layers.Dense(10, activation='softmax') (dense)\r\n",
        "\r\n",
        "functional_model = keras.models.Model(inputs=inputs, outputs=output)"
      ],
      "execution_count": 74,
      "outputs": []
    },
    {
      "cell_type": "code",
      "metadata": {
        "colab": {
          "base_uri": "https://localhost:8080/"
        },
        "id": "IZurcwKalC0p",
        "outputId": "1203748a-deea-4fed-a2b0-ca5a45cd22db"
      },
      "source": [
        "functional_model.summary()"
      ],
      "execution_count": 75,
      "outputs": [
        {
          "output_type": "stream",
          "text": [
            "Model: \"model_1\"\n",
            "_________________________________________________________________\n",
            "Layer (type)                 Output Shape              Param #   \n",
            "=================================================================\n",
            "input_2 (InputLayer)         [(None, 28, 28)]          0         \n",
            "_________________________________________________________________\n",
            "flatten_8 (Flatten)          (None, 784)               0         \n",
            "_________________________________________________________________\n",
            "dense_18 (Dense)             (None, 128)               100480    \n",
            "_________________________________________________________________\n",
            "dense_19 (Dense)             (None, 10)                1290      \n",
            "=================================================================\n",
            "Total params: 101,770\n",
            "Trainable params: 101,770\n",
            "Non-trainable params: 0\n",
            "_________________________________________________________________\n"
          ],
          "name": "stdout"
        }
      ]
    },
    {
      "cell_type": "code",
      "metadata": {
        "colab": {
          "base_uri": "https://localhost:8080/",
          "height": 287
        },
        "id": "wy_Tc_8hlFFQ",
        "outputId": "f28736b6-3155-4099-d287-5ff9ff6019e0"
      },
      "source": [
        "keras.utils.plot_model(functional_model, show_shapes=True, dpi=64)"
      ],
      "execution_count": 76,
      "outputs": [
        {
          "output_type": "execute_result",
          "data": {
            "image/png": "[encoded data removed]",
            "text/plain": [
              "<IPython.core.display.Image object>"
            ]
          },
          "metadata": {
            "tags": []
          },
          "execution_count": 76
        }
      ]
    },
    {
      "cell_type": "code",
      "metadata": {
        "id": "anKby149lLY8"
      },
      "source": [
        "functional_model.compile(optimizer='adam', loss='categorical_crossentropy', metrics=['accuracy'])"
      ],
      "execution_count": 77,
      "outputs": []
    },
    {
      "cell_type": "code",
      "metadata": {
        "colab": {
          "base_uri": "https://localhost:8080/"
        },
        "id": "R48iHp0tlOrH",
        "outputId": "2d9bdbbe-fa79-4496-e2a4-cd857d78406a"
      },
      "source": [
        "functional_model.fit(train_x, onehot_train_y, epochs=10)"
      ],
      "execution_count": 78,
      "outputs": [
        {
          "output_type": "stream",
          "text": [
            "Epoch 1/10\n",
            "1875/1875 [==============================] - 4s 2ms/step - loss: 9.9005 - accuracy: 0.4429\n",
            "Epoch 2/10\n",
            "1875/1875 [==============================] - 4s 2ms/step - loss: 0.7973 - accuracy: 0.7606\n",
            "Epoch 3/10\n",
            "1875/1875 [==============================] - 4s 2ms/step - loss: 0.4969 - accuracy: 0.8486\n",
            "Epoch 4/10\n",
            "1875/1875 [==============================] - 4s 2ms/step - loss: 0.4114 - accuracy: 0.8771\n",
            "Epoch 5/10\n",
            "1875/1875 [==============================] - 4s 2ms/step - loss: 0.3718 - accuracy: 0.8920\n",
            "Epoch 6/10\n",
            "1875/1875 [==============================] - 4s 2ms/step - loss: 0.3584 - accuracy: 0.8957\n",
            "Epoch 7/10\n",
            "1875/1875 [==============================] - 4s 2ms/step - loss: 0.3415 - accuracy: 0.9023\n",
            "Epoch 8/10\n",
            "1875/1875 [==============================] - 4s 2ms/step - loss: 0.3429 - accuracy: 0.9017\n",
            "Epoch 9/10\n",
            "1875/1875 [==============================] - 4s 2ms/step - loss: 0.3341 - accuracy: 0.9026\n",
            "Epoch 10/10\n",
            "1875/1875 [==============================] - 4s 2ms/step - loss: 0.3303 - accuracy: 0.9052\n"
          ],
          "name": "stdout"
        },
        {
          "output_type": "execute_result",
          "data": {
            "text/plain": [
              "<tensorflow.python.keras.callbacks.History at 0x7f737b0f0208>"
            ]
          },
          "metadata": {
            "tags": []
          },
          "execution_count": 78
        }
      ]
    },
    {
      "cell_type": "code",
      "metadata": {
        "colab": {
          "base_uri": "https://localhost:8080/"
        },
        "id": "TXi7Zk81lqig",
        "outputId": "1c3c47a9-33c7-4a79-d35d-cc158f8925b5"
      },
      "source": [
        "test_loss, test_acc = functional_model.evaluate(test_x,  onehot_test_y)\r\n",
        "print('test loss : {0:0.4f}\\ttest acc : {1:0.4f}'.format(test_loss, test_acc))"
      ],
      "execution_count": 79,
      "outputs": [
        {
          "output_type": "stream",
          "text": [
            "313/313 [==============================] - 1s 1ms/step - loss: 0.5411 - accuracy: 0.8761\n",
            "test loss : 0.5411\ttest acc : 0.8761\n"
          ],
          "name": "stdout"
        }
      ]
    },
    {
      "cell_type": "code",
      "metadata": {
        "colab": {
          "base_uri": "https://localhost:8080/",
          "height": 297
        },
        "id": "Izmhe75Jl00-",
        "outputId": "74ca8722-d120-46ba-d1c3-a3342c2fd65b"
      },
      "source": [
        "plt.xlabel(test_y[0])\r\n",
        "plt.imshow(test_x[0], cmap=plt.cm.binary)"
      ],
      "execution_count": 80,
      "outputs": [
        {
          "output_type": "execute_result",
          "data": {
            "text/plain": [
              "<matplotlib.image.AxesImage at 0x7f737b0d37b8>"
            ]
          },
          "metadata": {
            "tags": []
          },
          "execution_count": 80
        },
        {
          "output_type": "display_data",
          "data": {
            "image/png": "[encoded data removed]",
            "text/plain": [
              "<Figure size 432x288 with 1 Axes>"
            ]
          },
          "metadata": {
            "tags": [],
            "needs_background": "light"
          }
        }
      ]
    },
    {
      "cell_type": "code",
      "metadata": {
        "id": "eT3Qsu2ImDXP"
      },
      "source": [
        "preds = functional_model.predict(test_x)"
      ],
      "execution_count": 81,
      "outputs": []
    },
    {
      "cell_type": "code",
      "metadata": {
        "colab": {
          "base_uri": "https://localhost:8080/"
        },
        "id": "v9-RSK7pmG9c",
        "outputId": "0f729d76-a923-4094-fbc2-256c2fd388b1"
      },
      "source": [
        "np.argmax(preds[0])"
      ],
      "execution_count": 82,
      "outputs": [
        {
          "output_type": "execute_result",
          "data": {
            "text/plain": [
              "2"
            ]
          },
          "metadata": {
            "tags": []
          },
          "execution_count": 82
        }
      ]
    },
    {
      "cell_type": "code",
      "metadata": {
        "id": "2egoY0W6mMDJ"
      },
      "source": [
        "import cv2"
      ],
      "execution_count": 83,
      "outputs": []
    },
    {
      "cell_type": "code",
      "metadata": {
        "colab": {
          "base_uri": "https://localhost:8080/"
        },
        "id": "O9-PQbtHmN1Z",
        "outputId": "fc77e300-6538-4d23-cc9c-0b8269c362fd"
      },
      "source": [
        "type(train_x)"
      ],
      "execution_count": 84,
      "outputs": [
        {
          "output_type": "execute_result",
          "data": {
            "text/plain": [
              "numpy.ndarray"
            ]
          },
          "metadata": {
            "tags": []
          },
          "execution_count": 84
        }
      ]
    },
    {
      "cell_type": "code",
      "metadata": {
        "colab": {
          "base_uri": "https://localhost:8080/"
        },
        "id": "WunAlFb9mQ1R",
        "outputId": "4f0406d1-5610-4b6d-ca06-bbe70dcfeac4"
      },
      "source": [
        "test_x.shape"
      ],
      "execution_count": 85,
      "outputs": [
        {
          "output_type": "execute_result",
          "data": {
            "text/plain": [
              "(10000, 28, 28)"
            ]
          },
          "metadata": {
            "tags": []
          },
          "execution_count": 85
        }
      ]
    },
    {
      "cell_type": "code",
      "metadata": {
        "id": "ZJ-ObGKumUNj"
      },
      "source": [
        "resized_train_x = []\r\n",
        "resized_test_x = []\r\n",
        "for i in range(len(train_x)):\r\n",
        "  resized_train_x.append(cv2.resize(train_x[i], (32, 32)))\r\n",
        "  if i < 10000:\r\n",
        "    resized_test_x.append(cv2.resize(test_x[i], (32, 32)))\r\n",
        "\r\n",
        "resized_train_x = np.asarray(resized_train_x).reshape(-1, 32, 32, 1)\r\n",
        "resized_test_x = np.asarray(resized_test_x).reshape(-1, 32, 32, 1)"
      ],
      "execution_count": 87,
      "outputs": []
    },
    {
      "cell_type": "code",
      "metadata": {
        "colab": {
          "base_uri": "https://localhost:8080/"
        },
        "id": "NKCGs0otm6ds",
        "outputId": "f8b90bda-7d33-44c1-f1e3-8e275310862b"
      },
      "source": [
        "resized_test_x.shape"
      ],
      "execution_count": 88,
      "outputs": [
        {
          "output_type": "execute_result",
          "data": {
            "text/plain": [
              "(10000, 32, 32, 1)"
            ]
          },
          "metadata": {
            "tags": []
          },
          "execution_count": 88
        }
      ]
    }
  ]
}